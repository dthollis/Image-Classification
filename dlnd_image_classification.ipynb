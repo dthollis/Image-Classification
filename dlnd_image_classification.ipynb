{
 "cells": [
  {
   "cell_type": "markdown",
   "metadata": {
    "collapsed": true,
    "deletable": true,
    "editable": true
   },
   "source": [
    "# Image Classification\n",
    "In this project, you'll classify images from the [CIFAR-10 dataset](https://www.cs.toronto.edu/~kriz/cifar.html).  The dataset consists of airplanes, dogs, cats, and other objects. You'll preprocess the images, then train a convolutional neural network on all the samples. The images need to be normalized and the labels need to be one-hot encoded.  You'll get to apply what you learned and build a convolutional, max pooling, dropout, and fully connected layers.  At the end, you'll get to see your neural network's predictions on the sample images.\n",
    "## Get the Data\n",
    "Run the following cell to download the [CIFAR-10 dataset for python](https://www.cs.toronto.edu/~kriz/cifar-10-python.tar.gz)."
   ]
  },
  {
   "cell_type": "code",
   "execution_count": 1,
   "metadata": {
    "collapsed": false,
    "deletable": true,
    "editable": true
   },
   "outputs": [
    {
     "name": "stdout",
     "output_type": "stream",
     "text": [
      "All files found!\n"
     ]
    }
   ],
   "source": [
    "\"\"\"\n",
    "DON'T MODIFY ANYTHING IN THIS CELL THAT IS BELOW THIS LINE\n",
    "\"\"\"\n",
    "from urllib.request import urlretrieve\n",
    "from os.path import isfile, isdir\n",
    "from tqdm import tqdm\n",
    "import problem_unittests as tests\n",
    "import tarfile\n",
    "\n",
    "cifar10_dataset_folder_path = 'cifar-10-batches-py'\n",
    "\n",
    "class DLProgress(tqdm):\n",
    "    last_block = 0\n",
    "\n",
    "    def hook(self, block_num=1, block_size=1, total_size=None):\n",
    "        self.total = total_size\n",
    "        self.update((block_num - self.last_block) * block_size)\n",
    "        self.last_block = block_num\n",
    "\n",
    "if not isfile('cifar-10-python.tar.gz'):\n",
    "    with DLProgress(unit='B', unit_scale=True, miniters=1, desc='CIFAR-10 Dataset') as pbar:\n",
    "        urlretrieve(\n",
    "            'https://www.cs.toronto.edu/~kriz/cifar-10-python.tar.gz',\n",
    "            'cifar-10-python.tar.gz',\n",
    "            pbar.hook)\n",
    "\n",
    "if not isdir(cifar10_dataset_folder_path):\n",
    "    with tarfile.open('cifar-10-python.tar.gz') as tar:\n",
    "        tar.extractall()\n",
    "        tar.close()\n",
    "\n",
    "\n",
    "tests.test_folder_path(cifar10_dataset_folder_path)"
   ]
  },
  {
   "cell_type": "markdown",
   "metadata": {
    "deletable": true,
    "editable": true
   },
   "source": [
    "## Explore the Data\n",
    "The dataset is broken into batches to prevent your machine from running out of memory.  The CIFAR-10 dataset consists of 5 batches, named `data_batch_1`, `data_batch_2`, etc.. Each batch contains the labels and images that are one of the following:\n",
    "* airplane\n",
    "* automobile\n",
    "* bird\n",
    "* cat\n",
    "* deer\n",
    "* dog\n",
    "* frog\n",
    "* horse\n",
    "* ship\n",
    "* truck\n",
    "\n",
    "Understanding a dataset is part of making predictions on the data.  Play around with the code cell below by changing the `batch_id` and `sample_id`. The `batch_id` is the id for a batch (1-5). The `sample_id` is the id for a image and label pair in the batch.\n",
    "\n",
    "Ask yourself \"What are all possible labels?\", \"What is the range of values for the image data?\", \"Are the labels in order or random?\".  Answers to questions like these will help you preprocess the data and end up with better predictions."
   ]
  },
  {
   "cell_type": "code",
   "execution_count": 2,
   "metadata": {
    "collapsed": false,
    "deletable": true,
    "editable": true
   },
   "outputs": [
    {
     "name": "stdout",
     "output_type": "stream",
     "text": [
      "\n",
      "Stats of batch 1:\n",
      "Samples: 10000\n",
      "Label Counts: {0: 1005, 1: 974, 2: 1032, 3: 1016, 4: 999, 5: 937, 6: 1030, 7: 1001, 8: 1025, 9: 981}\n",
      "First 20 Labels: [6, 9, 9, 4, 1, 1, 2, 7, 8, 3, 4, 7, 7, 2, 9, 9, 9, 3, 2, 6]\n",
      "\n",
      "Example of Image 5:\n",
      "Image - Min Value: 0 Max Value: 252\n",
      "Image - Shape: (32, 32, 3)\n",
      "Label - Label Id: 1 Name: automobile\n"
     ]
    },
    {
     "data": {
      "image/png": "[encoded data removed]",
      "text/plain": [
       "<matplotlib.figure.Figure at 0x7f941a4cac18>"
      ]
     },
     "metadata": {
      "image/png": {
       "height": 250,
       "width": 253
      }
     },
     "output_type": "display_data"
    }
   ],
   "source": [
    "%matplotlib inline\n",
    "%config InlineBackend.figure_format = 'retina'\n",
    "\n",
    "import helper\n",
    "import numpy as np\n",
    "\n",
    "# Explore the dataset\n",
    "batch_id = 1\n",
    "sample_id = 5\n",
    "helper.display_stats(cifar10_dataset_folder_path, batch_id, sample_id)"
   ]
  },
  {
   "cell_type": "markdown",
   "metadata": {
    "deletable": true,
    "editable": true
   },
   "source": [
    "## Implement Preprocess Functions\n",
    "### Normalize\n",
    "In the cell below, implement the `normalize` function to take in image data, `x`, and return it as a normalized Numpy array. The values should be in the range of 0 to 1, inclusive.  The return object should be the same shape as `x`."
   ]
  },
  {
   "cell_type": "code",
   "execution_count": 3,
   "metadata": {
    "collapsed": false,
    "deletable": true,
    "editable": true
   },
   "outputs": [
    {
     "name": "stdout",
     "output_type": "stream",
     "text": [
      "Tests Passed\n"
     ]
    }
   ],
   "source": [
    "def normalize(x):\n",
    "    \"\"\"\n",
    "    Normalize a list of sample image data in the range of 0 to 1\n",
    "    : x: List of image data.  The image shape is (32, 32, 3)\n",
    "    : return: Numpy array of normalize data\n",
    "    \"\"\"\n",
    "    return x / x.max(axis=0)\n",
    "\n",
    "\n",
    "\"\"\"\n",
    "DON'T MODIFY ANYTHING IN THIS CELL THAT IS BELOW THIS LINE\n",
    "\"\"\"\n",
    "tests.test_normalize(normalize)"
   ]
  },
  {
   "cell_type": "markdown",
   "metadata": {
    "deletable": true,
    "editable": true
   },
   "source": [
    "### One-hot encode\n",
    "Just like the previous code cell, you'll be implementing a function for preprocessing.  This time, you'll implement the `one_hot_encode` function. The input, `x`, are a list of labels.  Implement the function to return the list of labels as One-Hot encoded Numpy array.  The possible values for labels are 0 to 9. The one-hot encoding function should return the same encoding for each value between each call to `one_hot_encode`.  Make sure to save the map of encodings outside the function.\n",
    "\n",
    "Hint: Don't reinvent the wheel."
   ]
  },
  {
   "cell_type": "code",
   "execution_count": 4,
   "metadata": {
    "collapsed": false,
    "deletable": true,
    "editable": true
   },
   "outputs": [
    {
     "name": "stdout",
     "output_type": "stream",
     "text": [
      "Tests Passed\n"
     ]
    }
   ],
   "source": [
    "from sklearn.preprocessing import LabelBinarizer\n",
    "\n",
    "def one_hot_encode(x):\n",
    "    \"\"\"\n",
    "    One hot encode a list of sample labels. Return a one-hot encoded vector for each label.\n",
    "    : x: List of sample Labels\n",
    "    : return: Numpy array of one-hot encoded labels\n",
    "    \"\"\"\n",
    "    return np.eye(10)[x]\n",
    "\n",
    "\"\"\"\n",
    "DON'T MODIFY ANYTHING IN THIS CELL THAT IS BELOW THIS LINE\n",
    "\"\"\"\n",
    "tests.test_one_hot_encode(one_hot_encode)"
   ]
  },
  {
   "cell_type": "markdown",
   "metadata": {
    "deletable": true,
    "editable": true
   },
   "source": [
    "### Randomize Data\n",
    "As you saw from exploring the data above, the order of the samples are randomized.  It doesn't hurt to randomize it again, but you don't need to for this dataset."
   ]
  },
  {
   "cell_type": "markdown",
   "metadata": {
    "deletable": true,
    "editable": true
   },
   "source": [
    "## Preprocess all the data and save it\n",
    "Running the code cell below will preprocess all the CIFAR-10 data and save it to file. The code below also uses 10% of the training data for validation."
   ]
  },
  {
   "cell_type": "code",
   "execution_count": 5,
   "metadata": {
    "collapsed": false,
    "deletable": true,
    "editable": true
   },
   "outputs": [],
   "source": [
    "\"\"\"\n",
    "DON'T MODIFY ANYTHING IN THIS CELL\n",
    "\"\"\"\n",
    "# Preprocess Training, Validation, and Testing Data\n",
    "helper.preprocess_and_save_data(cifar10_dataset_folder_path, normalize, one_hot_encode)"
   ]
  },
  {
   "cell_type": "markdown",
   "metadata": {
    "deletable": true,
    "editable": true
   },
   "source": [
    "# Check Point\n",
    "This is your first checkpoint.  If you ever decide to come back to this notebook or have to restart the notebook, you can start from here.  The preprocessed data has been saved to disk."
   ]
  },
  {
   "cell_type": "code",
   "execution_count": 6,
   "metadata": {
    "collapsed": false,
    "deletable": true,
    "editable": true
   },
   "outputs": [],
   "source": [
    "\"\"\"\n",
    "DON'T MODIFY ANYTHING IN THIS CELL\n",
    "\"\"\"\n",
    "import pickle\n",
    "import problem_unittests as tests\n",
    "import helper\n",
    "\n",
    "# Load the Preprocessed Validation data\n",
    "valid_features, valid_labels = pickle.load(open('preprocess_validation.p', mode='rb'))"
   ]
  },
  {
   "cell_type": "markdown",
   "metadata": {
    "deletable": true,
    "editable": true
   },
   "source": [
    "## Build the network\n",
    "For the neural network, you'll build each layer into a function.  Most of the code you've seen has been outside of functions. To test your code more thoroughly, we require that you put each layer in a function.  This allows us to give you better feedback and test for simple mistakes using our unittests before you submit your project.\n",
    "\n",
    ">**Note:** If you're finding it hard to dedicate enough time for this course each week, we've provided a small shortcut to this part of the project. In the next couple of problems, you'll have the option to use classes from the [TensorFlow Layers](https://www.tensorflow.org/api_docs/python/tf/layers) or [TensorFlow Layers (contrib)](https://www.tensorflow.org/api_guides/python/contrib.layers) packages to build each layer, except the layers you build in the \"Convolutional and Max Pooling Layer\" section.  TF Layers is similar to Keras's and TFLearn's abstraction to layers, so it's easy to pickup.\n",
    "\n",
    ">However, if you would like to get the most out of this course, try to solve all the problems _without_ using anything from the TF Layers packages. You **can** still use classes from other packages that happen to have the same name as ones you find in TF Layers! For example, instead of using the TF Layers version of the `conv2d` class, [tf.layers.conv2d](https://www.tensorflow.org/api_docs/python/tf/layers/conv2d), you would want to use the TF Neural Network version of `conv2d`, [tf.nn.conv2d](https://www.tensorflow.org/api_docs/python/tf/nn/conv2d). \n",
    "\n",
    "Let's begin!\n",
    "\n",
    "### Input\n",
    "The neural network needs to read the image data, one-hot encoded labels, and dropout keep probability. Implement the following functions\n",
    "* Implement `neural_net_image_input`\n",
    " * Return a [TF Placeholder](https://www.tensorflow.org/api_docs/python/tf/placeholder)\n",
    " * Set the shape using `image_shape` with batch size set to `None`.\n",
    " * Name the TensorFlow placeholder \"x\" using the TensorFlow `name` parameter in the [TF Placeholder](https://www.tensorflow.org/api_docs/python/tf/placeholder).\n",
    "* Implement `neural_net_label_input`\n",
    " * Return a [TF Placeholder](https://www.tensorflow.org/api_docs/python/tf/placeholder)\n",
    " * Set the shape using `n_classes` with batch size set to `None`.\n",
    " * Name the TensorFlow placeholder \"y\" using the TensorFlow `name` parameter in the [TF Placeholder](https://www.tensorflow.org/api_docs/python/tf/placeholder).\n",
    "* Implement `neural_net_keep_prob_input`\n",
    " * Return a [TF Placeholder](https://www.tensorflow.org/api_docs/python/tf/placeholder) for dropout keep probability.\n",
    " * Name the TensorFlow placeholder \"keep_prob\" using the TensorFlow `name` parameter in the [TF Placeholder](https://www.tensorflow.org/api_docs/python/tf/placeholder).\n",
    "\n",
    "These names will be used at the end of the project to load your saved model.\n",
    "\n",
    "Note: `None` for shapes in TensorFlow allow for a dynamic size."
   ]
  },
  {
   "cell_type": "code",
   "execution_count": 7,
   "metadata": {
    "collapsed": false,
    "deletable": true,
    "editable": true
   },
   "outputs": [
    {
     "name": "stdout",
     "output_type": "stream",
     "text": [
      "Image Input Tests Passed.\n",
      "Label Input Tests Passed.\n",
      "Keep Prob Tests Passed.\n"
     ]
    }
   ],
   "source": [
    "import tensorflow as tf\n",
    "\n",
    "def neural_net_image_input(image_shape):\n",
    "    \"\"\"\n",
    "    Return a Tensor for a bach of image input\n",
    "    : image_shape: Shape of the images\n",
    "    : return: Tensor for image input.\n",
    "    \"\"\"\n",
    "    return tf.placeholder(tf.float32, shape=[None, image_shape[0], image_shape[1], image_shape[2]], name='x')\n",
    "\n",
    "\n",
    "def neural_net_label_input(n_classes):\n",
    "    \"\"\"\n",
    "    Return a Tensor for a batch of label input\n",
    "    : n_classes: Number of classes\n",
    "    : return: Tensor for label input.\n",
    "    \"\"\"\n",
    "    return tf.placeholder(tf.float32, shape=[None, n_classes], name='y')\n",
    "\n",
    "\n",
    "def neural_net_keep_prob_input():\n",
    "    \"\"\"\n",
    "    Return a Tensor for keep probability\n",
    "    : return: Tensor for keep probability.\n",
    "    \"\"\"\n",
    "    return tf.placeholder(tf.float32, name='keep_prob')\n",
    "\n",
    "\n",
    "\"\"\"\n",
    "DON'T MODIFY ANYTHING IN THIS CELL THAT IS BELOW THIS LINE\n",
    "\"\"\"\n",
    "tf.reset_default_graph()\n",
    "tests.test_nn_image_inputs(neural_net_image_input)\n",
    "tests.test_nn_label_inputs(neural_net_label_input)\n",
    "tests.test_nn_keep_prob_inputs(neural_net_keep_prob_input)"
   ]
  },
  {
   "cell_type": "markdown",
   "metadata": {
    "deletable": true,
    "editable": true
   },
   "source": [
    "### Convolution and Max Pooling Layer\n",
    "Convolution layers have a lot of success with images. For this code cell, you should implement the function `conv2d_maxpool` to apply convolution then max pooling:\n",
    "* Create the weight and bias using `conv_ksize`, `conv_num_outputs` and the shape of `x_tensor`.\n",
    "* Apply a convolution to `x_tensor` using weight and `conv_strides`.\n",
    " * We recommend you use same padding, but you're welcome to use any padding.\n",
    "* Add bias\n",
    "* Add a nonlinear activation to the convolution.\n",
    "* Apply Max Pooling using `pool_ksize` and `pool_strides`.\n",
    " * We recommend you use same padding, but you're welcome to use any padding.\n",
    "\n",
    "**Note:** You **can't** use [TensorFlow Layers](https://www.tensorflow.org/api_docs/python/tf/layers) or [TensorFlow Layers (contrib)](https://www.tensorflow.org/api_guides/python/contrib.layers) for **this** layer, but you can still use TensorFlow's [Neural Network](https://www.tensorflow.org/api_docs/python/tf/nn) package. You may still use the shortcut option for all the **other** layers."
   ]
  },
  {
   "cell_type": "code",
   "execution_count": 9,
   "metadata": {
    "collapsed": false,
    "deletable": true,
    "editable": true
   },
   "outputs": [
    {
     "name": "stdout",
     "output_type": "stream",
     "text": [
      "Tests Passed\n"
     ]
    }
   ],
   "source": [
    "def conv2d_maxpool(x_tensor, conv_num_outputs, conv_ksize, conv_strides, pool_ksize, pool_strides):\n",
    "    \"\"\"\n",
    "    Apply convolution then max pooling to x_tensor\n",
    "    :param x_tensor: TensorFlow Tensor\n",
    "    :param conv_num_outputs: Number of outputs for the convolutional layer\n",
    "    :param conv_ksize: kernal size 2-D Tuple for the convolutional layer\n",
    "    :param conv_strides: Stride 2-D Tuple for convolution\n",
    "    :param pool_ksize: kernal size 2-D Tuple for pool\n",
    "    :param pool_strides: Stride 2-D Tuple for pool\n",
    "    : return: A tensor that represents convolution and max pooling of x_tensor\n",
    "    \"\"\"\n",
    "    weight = tf.Variable(tf.random_normal([*conv_ksize, x_tensor.get_shape().as_list()[3], conv_num_outputs], mean=0, stddev=0.1, dtype=tf.float32))\n",
    "    bias = tf.Variable(tf.truncated_normal([conv_num_outputs], mean=0, stddev=0.1, dtype=tf.float32))\n",
    "\n",
    "    conv = tf.nn.conv2d(x_tensor, weight, strides=[1, conv_strides[0], conv_strides[1], 1], padding='SAME')\n",
    "    conv = tf.nn.bias_add(conv, bias)\n",
    "    conv = tf.nn.relu(conv)\n",
    "    pool = tf.nn.max_pool(conv, ksize=[1, pool_ksize[0], pool_ksize[1], 1], strides=[1, pool_strides[0], pool_strides[1], 1], padding='SAME')\n",
    "    \n",
    "    return pool\n",
    "\n",
    "\n",
    "\"\"\"\n",
    "DON'T MODIFY ANYTHING IN THIS CELL THAT IS BELOW THIS LINE\n",
    "\"\"\"\n",
    "tests.test_con_pool(conv2d_maxpool)"
   ]
  },
  {
   "cell_type": "markdown",
   "metadata": {
    "deletable": true,
    "editable": true
   },
   "source": [
    "### Flatten Layer\n",
    "Implement the `flatten` function to change the dimension of `x_tensor` from a 4-D tensor to a 2-D tensor.  The output should be the shape (*Batch Size*, *Flattened Image Size*). Shortcut option: you can use classes from the [TensorFlow Layers](https://www.tensorflow.org/api_docs/python/tf/layers) or [TensorFlow Layers (contrib)](https://www.tensorflow.org/api_guides/python/contrib.layers) packages for this layer. For more of a challenge, only use other TensorFlow packages."
   ]
  },
  {
   "cell_type": "code",
   "execution_count": 10,
   "metadata": {
    "collapsed": false,
    "deletable": true,
    "editable": true
   },
   "outputs": [
    {
     "name": "stdout",
     "output_type": "stream",
     "text": [
      "Tests Passed\n"
     ]
    }
   ],
   "source": [
    "def flatten(x_tensor):\n",
    "    \"\"\"\n",
    "    Flatten x_tensor to (Batch Size, Flattened Image Size)\n",
    "    : x_tensor: A tensor of size (Batch Size, ...), where ... are the image dimensions.\n",
    "    : return: A tensor of size (Batch Size, Flattened Image Size).\n",
    "    \"\"\"    \n",
    "    dim = int(x_tensor.shape[1]*x_tensor.shape[2]*x_tensor.shape[3])\n",
    "\n",
    "    return tf.reshape(x_tensor, [-1, dim])\n",
    "\n",
    "\n",
    "\"\"\"\n",
    "DON'T MODIFY ANYTHING IN THIS CELL THAT IS BELOW THIS LINE\n",
    "\"\"\"\n",
    "tests.test_flatten(flatten)"
   ]
  },
  {
   "cell_type": "markdown",
   "metadata": {
    "deletable": true,
    "editable": true
   },
   "source": [
    "### Fully-Connected Layer\n",
    "Implement the `fully_conn` function to apply a fully connected layer to `x_tensor` with the shape (*Batch Size*, *num_outputs*). Shortcut option: you can use classes from the [TensorFlow Layers](https://www.tensorflow.org/api_docs/python/tf/layers) or [TensorFlow Layers (contrib)](https://www.tensorflow.org/api_guides/python/contrib.layers) packages for this layer. For more of a challenge, only use other TensorFlow packages."
   ]
  },
  {
   "cell_type": "code",
   "execution_count": 11,
   "metadata": {
    "collapsed": false,
    "deletable": true,
    "editable": true
   },
   "outputs": [
    {
     "name": "stdout",
     "output_type": "stream",
     "text": [
      "Tests Passed\n"
     ]
    }
   ],
   "source": [
    "def fully_conn(x_tensor, num_outputs):\n",
    "    \"\"\"\n",
    "    Apply a fully connected layer to x_tensor using weight and bias\n",
    "    : x_tensor: A 2-D tensor where the first dimension is batch size.\n",
    "    : num_outputs: The number of output that the new tensor should be.\n",
    "    : return: A 2-D tensor where the second dimension is num_outputs.\n",
    "    \"\"\"\n",
    "    weight = tf.Variable(tf.random_normal([int(x_tensor.shape[1]), num_outputs], mean=0, stddev=0.1, dtype=tf.float32))\n",
    "    bias = tf.Variable(tf.truncated_normal([num_outputs], mean=0, stddev=0.1, dtype=tf.float32))\n",
    "\n",
    "    full_conn = tf.matmul(x_tensor, weight) + bias\n",
    "    full_conn = tf.nn.relu(full_conn)\n",
    "    \n",
    "    return full_conn\n",
    "\n",
    "\n",
    "\"\"\"\n",
    "DON'T MODIFY ANYTHING IN THIS CELL THAT IS BELOW THIS LINE\n",
    "\"\"\"\n",
    "tests.test_fully_conn(fully_conn)"
   ]
  },
  {
   "cell_type": "markdown",
   "metadata": {
    "deletable": true,
    "editable": true
   },
   "source": [
    "### Output Layer\n",
    "Implement the `output` function to apply a fully connected layer to `x_tensor` with the shape (*Batch Size*, *num_outputs*). Shortcut option: you can use classes from the [TensorFlow Layers](https://www.tensorflow.org/api_docs/python/tf/layers) or [TensorFlow Layers (contrib)](https://www.tensorflow.org/api_guides/python/contrib.layers) packages for this layer. For more of a challenge, only use other TensorFlow packages.\n",
    "\n",
    "**Note:** Activation, softmax, or cross entropy should **not** be applied to this."
   ]
  },
  {
   "cell_type": "code",
   "execution_count": 12,
   "metadata": {
    "collapsed": false,
    "deletable": true,
    "editable": true
   },
   "outputs": [
    {
     "name": "stdout",
     "output_type": "stream",
     "text": [
      "Tests Passed\n"
     ]
    }
   ],
   "source": [
    "def output(x_tensor, num_outputs):\n",
    "    \"\"\"\n",
    "    Apply a output layer to x_tensor using weight and bias\n",
    "    : x_tensor: A 2-D tensor where the first dimension is batch size.\n",
    "    : num_outputs: The number of output that the new tensor should be.\n",
    "    : return: A 2-D tensor where the second dimension is num_outputs.\n",
    "    \"\"\"\n",
    "    weight = tf.Variable(tf.random_normal([int(x_tensor.shape[1]), num_outputs], mean=0, stddev=0.1, dtype=tf.float32))\n",
    "    bias = tf.Variable(tf.truncated_normal([num_outputs], mean=0, stddev=0.1, dtype=tf.float32))\n",
    "\n",
    "    out = tf.matmul(x_tensor, weight) + bias\n",
    "\n",
    "    return out\n",
    "\n",
    "\n",
    "\"\"\"\n",
    "DON'T MODIFY ANYTHING IN THIS CELL THAT IS BELOW THIS LINE\n",
    "\"\"\"\n",
    "tests.test_output(output)"
   ]
  },
  {
   "cell_type": "markdown",
   "metadata": {
    "deletable": true,
    "editable": true
   },
   "source": [
    "### Create Convolutional Model\n",
    "Implement the function `conv_net` to create a convolutional neural network model. The function takes in a batch of images, `x`, and outputs logits.  Use the layers you created above to create this model:\n",
    "\n",
    "* Apply 1, 2, or 3 Convolution and Max Pool layers\n",
    "* Apply a Flatten Layer\n",
    "* Apply 1, 2, or 3 Fully Connected Layers\n",
    "* Apply an Output Layer\n",
    "* Return the output\n",
    "* Apply [TensorFlow's Dropout](https://www.tensorflow.org/api_docs/python/tf/nn/dropout) to one or more layers in the model using `keep_prob`. "
   ]
  },
  {
   "cell_type": "code",
   "execution_count": 25,
   "metadata": {
    "collapsed": false,
    "deletable": true,
    "editable": true
   },
   "outputs": [
    {
     "name": "stdout",
     "output_type": "stream",
     "text": [
      "Neural Network Built!\n"
     ]
    }
   ],
   "source": [
    "def conv_net(x, keep_prob):\n",
    "    \"\"\"\n",
    "    Create a convolutional neural network model\n",
    "    : x: Placeholder tensor that holds image data.\n",
    "    : keep_prob: Placeholder tensor that hold dropout keep probability.\n",
    "    : return: Tensor that represents logits\n",
    "    \"\"\"\n",
    "    conv_ksize = (5, 5)\n",
    "    conv_strides = (1, 1)\n",
    "    pool_ksize = (2, 2)\n",
    "    pool_strides = (2, 2)\n",
    "\n",
    "    # Play around with different number of outputs, kernel size and stride\n",
    "    # Function Definition from Above:\n",
    "    x1 = conv2d_maxpool(x, 32, conv_ksize, conv_strides, pool_ksize, pool_strides)\n",
    "    x2 = conv2d_maxpool(x1, 64, conv_ksize, conv_strides, pool_ksize, pool_strides)\n",
    "    \n",
    "    # Function Definition from Above:\n",
    "    flat = flatten(x2)\n",
    "    \n",
    "    # Play around with different number of outputs\n",
    "    # Function Definition from Above:\n",
    "    fc1 = fully_conn(flat, 1024)\n",
    "    fc1 = tf.nn.dropout(fc1, keep_prob)\n",
    "    \n",
    "    # Set this to the number of classes\n",
    "    # Function Definition from Above:\n",
    "    out = output(fc1, 10)\n",
    "    \n",
    "    return out\n",
    "\n",
    "\n",
    "\"\"\"\n",
    "DON'T MODIFY ANYTHING IN THIS CELL THAT IS BELOW THIS LINE\n",
    "\"\"\"\n",
    "\n",
    "##############################\n",
    "## Build the Neural Network ##\n",
    "##############################\n",
    "\n",
    "# Remove previous weights, bias, inputs, etc..\n",
    "tf.reset_default_graph()\n",
    "\n",
    "# Inputs\n",
    "x = neural_net_image_input((32, 32, 3))\n",
    "y = neural_net_label_input(10)\n",
    "keep_prob = neural_net_keep_prob_input()\n",
    "\n",
    "# Model\n",
    "logits = conv_net(x, keep_prob)\n",
    "\n",
    "# Name logits Tensor, so that is can be loaded from disk after training\n",
    "logits = tf.identity(logits, name='logits')\n",
    "\n",
    "# Loss and Optimizer\n",
    "cost = tf.reduce_mean(tf.nn.softmax_cross_entropy_with_logits(logits=logits, labels=y))\n",
    "optimizer = tf.train.AdamOptimizer().minimize(cost)\n",
    "\n",
    "# Accuracy\n",
    "correct_pred = tf.equal(tf.argmax(logits, 1), tf.argmax(y, 1))\n",
    "accuracy = tf.reduce_mean(tf.cast(correct_pred, tf.float32), name='accuracy')\n",
    "\n",
    "tests.test_conv_net(conv_net)"
   ]
  },
  {
   "cell_type": "markdown",
   "metadata": {
    "deletable": true,
    "editable": true
   },
   "source": [
    "## Train the Neural Network\n",
    "### Single Optimization\n",
    "Implement the function `train_neural_network` to do a single optimization.  The optimization should use `optimizer` to optimize in `session` with a `feed_dict` of the following:\n",
    "* `x` for image input\n",
    "* `y` for labels\n",
    "* `keep_prob` for keep probability for dropout\n",
    "\n",
    "This function will be called for each batch, so `tf.global_variables_initializer()` has already been called.\n",
    "\n",
    "Note: Nothing needs to be returned. This function is only optimizing the neural network."
   ]
  },
  {
   "cell_type": "code",
   "execution_count": 26,
   "metadata": {
    "collapsed": false,
    "deletable": true,
    "editable": true
   },
   "outputs": [
    {
     "name": "stdout",
     "output_type": "stream",
     "text": [
      "Tests Passed\n"
     ]
    }
   ],
   "source": [
    "def train_neural_network(session, optimizer, keep_probability, feature_batch, label_batch):\n",
    "    \"\"\"\n",
    "    Optimize the session on a batch of images and labels\n",
    "    : session: Current TensorFlow session\n",
    "    : optimizer: TensorFlow optimizer function\n",
    "    : keep_probability: keep probability\n",
    "    : feature_batch: Batch of Numpy image data\n",
    "    : label_batch: Batch of Numpy label data\n",
    "    \"\"\"\n",
    "    session.run(optimizer, feed_dict={\n",
    "        x: feature_batch,\n",
    "        y: label_batch,\n",
    "        keep_prob: keep_probability})\n",
    "    \n",
    "    pass\n",
    "\n",
    "\n",
    "\"\"\"\n",
    "DON'T MODIFY ANYTHING IN THIS CELL THAT IS BELOW THIS LINE\n",
    "\"\"\"\n",
    "tests.test_train_nn(train_neural_network)"
   ]
  },
  {
   "cell_type": "markdown",
   "metadata": {
    "deletable": true,
    "editable": true
   },
   "source": [
    "### Show Stats\n",
    "Implement the function `print_stats` to print loss and validation accuracy.  Use the global variables `valid_features` and `valid_labels` to calculate validation accuracy.  Use a keep probability of `1.0` to calculate the loss and validation accuracy."
   ]
  },
  {
   "cell_type": "code",
   "execution_count": 27,
   "metadata": {
    "collapsed": false,
    "deletable": true,
    "editable": true
   },
   "outputs": [],
   "source": [
    "def print_stats(session, feature_batch, label_batch, cost, accuracy):\n",
    "    \"\"\"\n",
    "    Print information about loss and validation accuracy\n",
    "    : session: Current TensorFlow session\n",
    "    : feature_batch: Batch of Numpy image data\n",
    "    : label_batch: Batch of Numpy label data\n",
    "    : cost: TensorFlow cost function\n",
    "    : accuracy: TensorFlow accuracy function\n",
    "    \"\"\"\n",
    "    loss = session.run(cost, feed_dict={\n",
    "        x: feature_batch,\n",
    "        y: label_batch,\n",
    "        keep_prob: 1.})\n",
    "    \n",
    "    valid_acc = session.run(accuracy, feed_dict={\n",
    "        x: valid_features, \n",
    "        y: valid_labels, \n",
    "        keep_prob: 1.0})\n",
    "    \n",
    "    print('Loss: {:>10.4f} Training Accuracy: {:.4f}'.format(\n",
    "        loss, valid_acc))\n",
    "    \n",
    "    pass"
   ]
  },
  {
   "cell_type": "markdown",
   "metadata": {
    "deletable": true,
    "editable": true
   },
   "source": [
    "### Hyperparameters\n",
    "Tune the following parameters:\n",
    "* Set `epochs` to the number of iterations until the network stops learning or start overfitting\n",
    "* Set `batch_size` to the highest number that your machine has memory for.  Most people set them to common sizes of memory:\n",
    " * 64\n",
    " * 128\n",
    " * 256\n",
    " * ...\n",
    "* Set `keep_probability` to the probability of keeping a node using dropout"
   ]
  },
  {
   "cell_type": "code",
   "execution_count": 28,
   "metadata": {
    "collapsed": true,
    "deletable": true,
    "editable": true
   },
   "outputs": [],
   "source": [
    "epochs = 50\n",
    "batch_size = 64\n",
    "keep_probability = .5"
   ]
  },
  {
   "cell_type": "markdown",
   "metadata": {
    "deletable": true,
    "editable": true
   },
   "source": [
    "### Train on a Single CIFAR-10 Batch\n",
    "Instead of training the neural network on all the CIFAR-10 batches of data, let's use a single batch. This should save time while you iterate on the model to get a better accuracy.  Once the final validation accuracy is 50% or greater, run the model on all the data in the next section."
   ]
  },
  {
   "cell_type": "code",
   "execution_count": 29,
   "metadata": {
    "collapsed": false,
    "deletable": true,
    "editable": true
   },
   "outputs": [
    {
     "name": "stdout",
     "output_type": "stream",
     "text": [
      "Checking the Training on a Single Batch...\n",
      "Epoch  1, CIFAR-10 Batch 1:  Loss:     1.8421 Training Accuracy: 0.3930\n",
      "Epoch  2, CIFAR-10 Batch 1:  Loss:     1.5098 Training Accuracy: 0.4664\n",
      "Epoch  3, CIFAR-10 Batch 1:  Loss:     1.2636 Training Accuracy: 0.4922\n",
      "Epoch  4, CIFAR-10 Batch 1:  Loss:     0.9620 Training Accuracy: 0.5036\n",
      "Epoch  5, CIFAR-10 Batch 1:  Loss:     0.7653 Training Accuracy: 0.5216\n",
      "Epoch  6, CIFAR-10 Batch 1:  Loss:     0.5839 Training Accuracy: 0.5192\n",
      "Epoch  7, CIFAR-10 Batch 1:  Loss:     0.5104 Training Accuracy: 0.5364\n",
      "Epoch  8, CIFAR-10 Batch 1:  Loss:     0.4570 Training Accuracy: 0.5448\n",
      "Epoch  9, CIFAR-10 Batch 1:  Loss:     0.2915 Training Accuracy: 0.5286\n",
      "Epoch 10, CIFAR-10 Batch 1:  Loss:     0.2749 Training Accuracy: 0.5350\n",
      "Epoch 11, CIFAR-10 Batch 1:  Loss:     0.1844 Training Accuracy: 0.5426\n",
      "Epoch 12, CIFAR-10 Batch 1:  Loss:     0.1315 Training Accuracy: 0.5406\n",
      "Epoch 13, CIFAR-10 Batch 1:  Loss:     0.1142 Training Accuracy: 0.5556\n",
      "Epoch 14, CIFAR-10 Batch 1:  Loss:     0.0817 Training Accuracy: 0.5468\n",
      "Epoch 15, CIFAR-10 Batch 1:  Loss:     0.1384 Training Accuracy: 0.5408\n",
      "Epoch 16, CIFAR-10 Batch 1:  Loss:     0.0406 Training Accuracy: 0.5456\n",
      "Epoch 17, CIFAR-10 Batch 1:  Loss:     0.0132 Training Accuracy: 0.5468\n",
      "Epoch 18, CIFAR-10 Batch 1:  Loss:     0.0098 Training Accuracy: 0.5576\n",
      "Epoch 19, CIFAR-10 Batch 1:  Loss:     0.0122 Training Accuracy: 0.5488\n",
      "Epoch 20, CIFAR-10 Batch 1:  Loss:     0.0076 Training Accuracy: 0.5610\n",
      "Epoch 21, CIFAR-10 Batch 1:  Loss:     0.0084 Training Accuracy: 0.5548\n",
      "Epoch 22, CIFAR-10 Batch 1:  Loss:     0.0056 Training Accuracy: 0.5618\n",
      "Epoch 23, CIFAR-10 Batch 1:  Loss:     0.0095 Training Accuracy: 0.5530\n",
      "Epoch 24, CIFAR-10 Batch 1:  Loss:     0.0038 Training Accuracy: 0.5502\n",
      "Epoch 25, CIFAR-10 Batch 1:  Loss:     0.0047 Training Accuracy: 0.5548\n",
      "Epoch 26, CIFAR-10 Batch 1:  Loss:     0.0039 Training Accuracy: 0.5600\n",
      "Epoch 27, CIFAR-10 Batch 1:  Loss:     0.0054 Training Accuracy: 0.5622\n",
      "Epoch 28, CIFAR-10 Batch 1:  Loss:     0.0025 Training Accuracy: 0.5544\n",
      "Epoch 29, CIFAR-10 Batch 1:  Loss:     0.0018 Training Accuracy: 0.5670\n",
      "Epoch 30, CIFAR-10 Batch 1:  Loss:     0.0051 Training Accuracy: 0.5598\n",
      "Epoch 31, CIFAR-10 Batch 1:  Loss:     0.0079 Training Accuracy: 0.5604\n",
      "Epoch 32, CIFAR-10 Batch 1:  Loss:     0.0012 Training Accuracy: 0.5570\n",
      "Epoch 33, CIFAR-10 Batch 1:  Loss:     0.0036 Training Accuracy: 0.5632\n",
      "Epoch 34, CIFAR-10 Batch 1:  Loss:     0.0011 Training Accuracy: 0.5628\n",
      "Epoch 35, CIFAR-10 Batch 1:  Loss:     0.0014 Training Accuracy: 0.5556\n",
      "Epoch 36, CIFAR-10 Batch 1:  Loss:     0.0015 Training Accuracy: 0.5566\n",
      "Epoch 37, CIFAR-10 Batch 1:  Loss:     0.0027 Training Accuracy: 0.5494\n",
      "Epoch 38, CIFAR-10 Batch 1:  Loss:     0.0049 Training Accuracy: 0.5592\n",
      "Epoch 39, CIFAR-10 Batch 1:  Loss:     0.0019 Training Accuracy: 0.5610\n",
      "Epoch 40, CIFAR-10 Batch 1:  Loss:     0.0045 Training Accuracy: 0.5556\n",
      "Epoch 41, CIFAR-10 Batch 1:  Loss:     0.0013 Training Accuracy: 0.5546\n",
      "Epoch 42, CIFAR-10 Batch 1:  Loss:     0.0047 Training Accuracy: 0.5484\n",
      "Epoch 43, CIFAR-10 Batch 1:  Loss:     0.0007 Training Accuracy: 0.5688\n",
      "Epoch 44, CIFAR-10 Batch 1:  Loss:     0.0008 Training Accuracy: 0.5650\n",
      "Epoch 45, CIFAR-10 Batch 1:  Loss:     0.0006 Training Accuracy: 0.5616\n",
      "Epoch 46, CIFAR-10 Batch 1:  Loss:     0.0009 Training Accuracy: 0.5548\n",
      "Epoch 47, CIFAR-10 Batch 1:  Loss:     0.0002 Training Accuracy: 0.5448\n",
      "Epoch 48, CIFAR-10 Batch 1:  Loss:     0.0017 Training Accuracy: 0.5550\n",
      "Epoch 49, CIFAR-10 Batch 1:  Loss:     0.0007 Training Accuracy: 0.5550\n",
      "Epoch 50, CIFAR-10 Batch 1:  Loss:     0.0005 Training Accuracy: 0.5626\n"
     ]
    }
   ],
   "source": [
    "\"\"\"\n",
    "DON'T MODIFY ANYTHING IN THIS CELL\n",
    "\"\"\"\n",
    "print('Checking the Training on a Single Batch...')\n",
    "with tf.Session() as sess:\n",
    "    # Initializing the variables\n",
    "    sess.run(tf.global_variables_initializer())\n",
    "    \n",
    "    # Training cycle\n",
    "    for epoch in range(epochs):\n",
    "        batch_i = 1\n",
    "        for batch_features, batch_labels in helper.load_preprocess_training_batch(batch_i, batch_size):\n",
    "            train_neural_network(sess, optimizer, keep_probability, batch_features, batch_labels)\n",
    "        \n",
    "        print('Epoch {:>2}, CIFAR-10 Batch {}:  '.format(epoch + 1, batch_i), end='')\n",
    "        print_stats(sess, batch_features, batch_labels, cost, accuracy)"
   ]
  },
  {
   "cell_type": "markdown",
   "metadata": {
    "deletable": true,
    "editable": true
   },
   "source": [
    "### Fully Train the Model\n",
    "Now that you got a good accuracy with a single CIFAR-10 batch, try it with all five batches."
   ]
  },
  {
   "cell_type": "code",
   "execution_count": 31,
   "metadata": {
    "collapsed": false,
    "deletable": true,
    "editable": true
   },
   "outputs": [
    {
     "name": "stdout",
     "output_type": "stream",
     "text": [
      "Training...\n",
      "Epoch  1, CIFAR-10 Batch 1:  Loss:     1.7391 Training Accuracy: 0.4224\n",
      "Epoch  1, CIFAR-10 Batch 2:  Loss:     1.5217 Training Accuracy: 0.4812\n",
      "Epoch  1, CIFAR-10 Batch 3:  Loss:     1.2094 Training Accuracy: 0.5174\n",
      "Epoch  1, CIFAR-10 Batch 4:  Loss:     1.2432 Training Accuracy: 0.5406\n",
      "Epoch  1, CIFAR-10 Batch 5:  Loss:     1.2852 Training Accuracy: 0.5670\n",
      "Epoch  2, CIFAR-10 Batch 1:  Loss:     1.3817 Training Accuracy: 0.5604\n",
      "Epoch  2, CIFAR-10 Batch 2:  Loss:     1.0527 Training Accuracy: 0.5514\n",
      "Epoch  2, CIFAR-10 Batch 3:  Loss:     0.7890 Training Accuracy: 0.5906\n",
      "Epoch  2, CIFAR-10 Batch 4:  Loss:     0.8282 Training Accuracy: 0.6098\n",
      "Epoch  2, CIFAR-10 Batch 5:  Loss:     0.8772 Training Accuracy: 0.6214\n",
      "Epoch  3, CIFAR-10 Batch 1:  Loss:     1.0903 Training Accuracy: 0.6134\n",
      "Epoch  3, CIFAR-10 Batch 2:  Loss:     0.8427 Training Accuracy: 0.6190\n",
      "Epoch  3, CIFAR-10 Batch 3:  Loss:     0.5138 Training Accuracy: 0.6398\n",
      "Epoch  3, CIFAR-10 Batch 4:  Loss:     0.6438 Training Accuracy: 0.6384\n",
      "Epoch  3, CIFAR-10 Batch 5:  Loss:     0.6647 Training Accuracy: 0.6322\n",
      "Epoch  4, CIFAR-10 Batch 1:  Loss:     0.8982 Training Accuracy: 0.6348\n",
      "Epoch  4, CIFAR-10 Batch 2:  Loss:     0.6436 Training Accuracy: 0.6438\n",
      "Epoch  4, CIFAR-10 Batch 3:  Loss:     0.3559 Training Accuracy: 0.6436\n",
      "Epoch  4, CIFAR-10 Batch 4:  Loss:     0.3993 Training Accuracy: 0.6562\n",
      "Epoch  4, CIFAR-10 Batch 5:  Loss:     0.4867 Training Accuracy: 0.6238\n",
      "Epoch  5, CIFAR-10 Batch 1:  Loss:     0.6154 Training Accuracy: 0.6464\n",
      "Epoch  5, CIFAR-10 Batch 2:  Loss:     0.4146 Training Accuracy: 0.6502\n",
      "Epoch  5, CIFAR-10 Batch 3:  Loss:     0.1861 Training Accuracy: 0.6668\n",
      "Epoch  5, CIFAR-10 Batch 4:  Loss:     0.3325 Training Accuracy: 0.6690\n",
      "Epoch  5, CIFAR-10 Batch 5:  Loss:     0.2477 Training Accuracy: 0.6566\n",
      "Epoch  6, CIFAR-10 Batch 1:  Loss:     0.4578 Training Accuracy: 0.6598\n",
      "Epoch  6, CIFAR-10 Batch 2:  Loss:     0.2772 Training Accuracy: 0.6570\n",
      "Epoch  6, CIFAR-10 Batch 3:  Loss:     0.1770 Training Accuracy: 0.6660\n",
      "Epoch  6, CIFAR-10 Batch 4:  Loss:     0.2651 Training Accuracy: 0.6496\n",
      "Epoch  6, CIFAR-10 Batch 5:  Loss:     0.1760 Training Accuracy: 0.6644\n",
      "Epoch  7, CIFAR-10 Batch 1:  Loss:     0.4247 Training Accuracy: 0.6632\n",
      "Epoch  7, CIFAR-10 Batch 2:  Loss:     0.2326 Training Accuracy: 0.6488\n",
      "Epoch  7, CIFAR-10 Batch 3:  Loss:     0.1128 Training Accuracy: 0.6662\n",
      "Epoch  7, CIFAR-10 Batch 4:  Loss:     0.1799 Training Accuracy: 0.6666\n",
      "Epoch  7, CIFAR-10 Batch 5:  Loss:     0.1393 Training Accuracy: 0.6600\n",
      "Epoch  8, CIFAR-10 Batch 1:  Loss:     0.2730 Training Accuracy: 0.6592\n",
      "Epoch  8, CIFAR-10 Batch 2:  Loss:     0.1059 Training Accuracy: 0.6766\n",
      "Epoch  8, CIFAR-10 Batch 3:  Loss:     0.1339 Training Accuracy: 0.6680\n",
      "Epoch  8, CIFAR-10 Batch 4:  Loss:     0.0741 Training Accuracy: 0.6688\n",
      "Epoch  8, CIFAR-10 Batch 5:  Loss:     0.1133 Training Accuracy: 0.6562\n",
      "Epoch  9, CIFAR-10 Batch 1:  Loss:     0.1752 Training Accuracy: 0.6706\n",
      "Epoch  9, CIFAR-10 Batch 2:  Loss:     0.0684 Training Accuracy: 0.6742\n",
      "Epoch  9, CIFAR-10 Batch 3:  Loss:     0.0547 Training Accuracy: 0.6622\n",
      "Epoch  9, CIFAR-10 Batch 4:  Loss:     0.0799 Training Accuracy: 0.6856\n",
      "Epoch  9, CIFAR-10 Batch 5:  Loss:     0.0455 Training Accuracy: 0.6410\n",
      "Epoch 10, CIFAR-10 Batch 1:  Loss:     0.1084 Training Accuracy: 0.6720\n",
      "Epoch 10, CIFAR-10 Batch 2:  Loss:     0.0529 Training Accuracy: 0.6730\n",
      "Epoch 10, CIFAR-10 Batch 3:  Loss:     0.0382 Training Accuracy: 0.6664\n",
      "Epoch 10, CIFAR-10 Batch 4:  Loss:     0.0416 Training Accuracy: 0.6810\n",
      "Epoch 10, CIFAR-10 Batch 5:  Loss:     0.0491 Training Accuracy: 0.6508\n",
      "Epoch 11, CIFAR-10 Batch 1:  Loss:     0.0512 Training Accuracy: 0.6866\n",
      "Epoch 11, CIFAR-10 Batch 2:  Loss:     0.0326 Training Accuracy: 0.6794\n",
      "Epoch 11, CIFAR-10 Batch 3:  Loss:     0.0216 Training Accuracy: 0.6748\n",
      "Epoch 11, CIFAR-10 Batch 4:  Loss:     0.0240 Training Accuracy: 0.6876\n",
      "Epoch 11, CIFAR-10 Batch 5:  Loss:     0.0295 Training Accuracy: 0.6606\n",
      "Epoch 12, CIFAR-10 Batch 1:  Loss:     0.0520 Training Accuracy: 0.6722\n",
      "Epoch 12, CIFAR-10 Batch 2:  Loss:     0.0410 Training Accuracy: 0.6594\n",
      "Epoch 12, CIFAR-10 Batch 3:  Loss:     0.0266 Training Accuracy: 0.6686\n",
      "Epoch 12, CIFAR-10 Batch 4:  Loss:     0.0148 Training Accuracy: 0.6728\n",
      "Epoch 12, CIFAR-10 Batch 5:  Loss:     0.0177 Training Accuracy: 0.6640\n",
      "Epoch 13, CIFAR-10 Batch 1:  Loss:     0.0283 Training Accuracy: 0.6692\n",
      "Epoch 13, CIFAR-10 Batch 2:  Loss:     0.0126 Training Accuracy: 0.6674\n",
      "Epoch 13, CIFAR-10 Batch 3:  Loss:     0.0117 Training Accuracy: 0.6808\n",
      "Epoch 13, CIFAR-10 Batch 4:  Loss:     0.0205 Training Accuracy: 0.6756\n",
      "Epoch 13, CIFAR-10 Batch 5:  Loss:     0.0227 Training Accuracy: 0.6746\n",
      "Epoch 14, CIFAR-10 Batch 1:  Loss:     0.0391 Training Accuracy: 0.6726\n",
      "Epoch 14, CIFAR-10 Batch 2:  Loss:     0.0129 Training Accuracy: 0.6716\n",
      "Epoch 14, CIFAR-10 Batch 3:  Loss:     0.0134 Training Accuracy: 0.6654\n",
      "Epoch 14, CIFAR-10 Batch 4:  Loss:     0.0113 Training Accuracy: 0.6736\n",
      "Epoch 14, CIFAR-10 Batch 5:  Loss:     0.0112 Training Accuracy: 0.6846\n",
      "Epoch 15, CIFAR-10 Batch 1:  Loss:     0.0267 Training Accuracy: 0.6738\n",
      "Epoch 15, CIFAR-10 Batch 2:  Loss:     0.0109 Training Accuracy: 0.6718\n",
      "Epoch 15, CIFAR-10 Batch 3:  Loss:     0.0279 Training Accuracy: 0.6886\n",
      "Epoch 15, CIFAR-10 Batch 4:  Loss:     0.0470 Training Accuracy: 0.6670\n",
      "Epoch 15, CIFAR-10 Batch 5:  Loss:     0.0261 Training Accuracy: 0.6758\n",
      "Epoch 16, CIFAR-10 Batch 1:  Loss:     0.0108 Training Accuracy: 0.6820\n",
      "Epoch 16, CIFAR-10 Batch 2:  Loss:     0.0046 Training Accuracy: 0.6816\n",
      "Epoch 16, CIFAR-10 Batch 3:  Loss:     0.0051 Training Accuracy: 0.6814\n",
      "Epoch 16, CIFAR-10 Batch 4:  Loss:     0.0496 Training Accuracy: 0.6740\n",
      "Epoch 16, CIFAR-10 Batch 5:  Loss:     0.0147 Training Accuracy: 0.6678\n",
      "Epoch 17, CIFAR-10 Batch 1:  Loss:     0.0098 Training Accuracy: 0.6704\n",
      "Epoch 17, CIFAR-10 Batch 2:  Loss:     0.0074 Training Accuracy: 0.6490\n",
      "Epoch 17, CIFAR-10 Batch 3:  Loss:     0.0071 Training Accuracy: 0.6744\n",
      "Epoch 17, CIFAR-10 Batch 4:  Loss:     0.0176 Training Accuracy: 0.6786\n",
      "Epoch 17, CIFAR-10 Batch 5:  Loss:     0.0099 Training Accuracy: 0.6780\n",
      "Epoch 18, CIFAR-10 Batch 1:  Loss:     0.0135 Training Accuracy: 0.6798\n",
      "Epoch 18, CIFAR-10 Batch 2:  Loss:     0.0095 Training Accuracy: 0.6730\n",
      "Epoch 18, CIFAR-10 Batch 3:  Loss:     0.0043 Training Accuracy: 0.6788\n",
      "Epoch 18, CIFAR-10 Batch 4:  Loss:     0.0071 Training Accuracy: 0.6862\n",
      "Epoch 18, CIFAR-10 Batch 5:  Loss:     0.0077 Training Accuracy: 0.6868\n",
      "Epoch 19, CIFAR-10 Batch 1:  Loss:     0.0124 Training Accuracy: 0.6716\n",
      "Epoch 19, CIFAR-10 Batch 2:  Loss:     0.0044 Training Accuracy: 0.6716\n",
      "Epoch 19, CIFAR-10 Batch 3:  Loss:     0.0067 Training Accuracy: 0.6792\n",
      "Epoch 19, CIFAR-10 Batch 4:  Loss:     0.0138 Training Accuracy: 0.6776\n",
      "Epoch 19, CIFAR-10 Batch 5:  Loss:     0.0061 Training Accuracy: 0.6864\n",
      "Epoch 20, CIFAR-10 Batch 1:  Loss:     0.0081 Training Accuracy: 0.6728\n",
      "Epoch 20, CIFAR-10 Batch 2:  Loss:     0.0031 Training Accuracy: 0.6732\n",
      "Epoch 20, CIFAR-10 Batch 3:  Loss:     0.0008 Training Accuracy: 0.6772\n",
      "Epoch 20, CIFAR-10 Batch 4:  Loss:     0.0048 Training Accuracy: 0.6676\n",
      "Epoch 20, CIFAR-10 Batch 5:  Loss:     0.0051 Training Accuracy: 0.6890\n",
      "Epoch 21, CIFAR-10 Batch 1:  Loss:     0.0042 Training Accuracy: 0.6732\n",
      "Epoch 21, CIFAR-10 Batch 2:  Loss:     0.0059 Training Accuracy: 0.6728\n",
      "Epoch 21, CIFAR-10 Batch 3:  Loss:     0.0011 Training Accuracy: 0.6864\n",
      "Epoch 21, CIFAR-10 Batch 4:  Loss:     0.0037 Training Accuracy: 0.6738\n",
      "Epoch 21, CIFAR-10 Batch 5:  Loss:     0.0026 Training Accuracy: 0.6656\n",
      "Epoch 22, CIFAR-10 Batch 1:  Loss:     0.0104 Training Accuracy: 0.6840\n",
      "Epoch 22, CIFAR-10 Batch 2:  Loss:     0.0038 Training Accuracy: 0.6776\n",
      "Epoch 22, CIFAR-10 Batch 3:  Loss:     0.0218 Training Accuracy: 0.6728\n",
      "Epoch 22, CIFAR-10 Batch 4:  Loss:     0.0068 Training Accuracy: 0.6772\n",
      "Epoch 22, CIFAR-10 Batch 5:  Loss:     0.0095 Training Accuracy: 0.6746\n",
      "Epoch 23, CIFAR-10 Batch 1:  Loss:     0.0132 Training Accuracy: 0.6814\n",
      "Epoch 23, CIFAR-10 Batch 2:  Loss:     0.0073 Training Accuracy: 0.6810\n",
      "Epoch 23, CIFAR-10 Batch 3:  Loss:     0.0075 Training Accuracy: 0.6780\n",
      "Epoch 23, CIFAR-10 Batch 4:  Loss:     0.0023 Training Accuracy: 0.6732\n",
      "Epoch 23, CIFAR-10 Batch 5:  Loss:     0.0030 Training Accuracy: 0.6854\n",
      "Epoch 24, CIFAR-10 Batch 1:  Loss:     0.0360 Training Accuracy: 0.6722\n",
      "Epoch 24, CIFAR-10 Batch 2:  Loss:     0.0013 Training Accuracy: 0.6734\n",
      "Epoch 24, CIFAR-10 Batch 3:  Loss:     0.0020 Training Accuracy: 0.6766\n",
      "Epoch 24, CIFAR-10 Batch 4:  Loss:     0.0033 Training Accuracy: 0.6736\n",
      "Epoch 24, CIFAR-10 Batch 5:  Loss:     0.0027 Training Accuracy: 0.6796\n",
      "Epoch 25, CIFAR-10 Batch 1:  Loss:     0.0045 Training Accuracy: 0.6808\n",
      "Epoch 25, CIFAR-10 Batch 2:  Loss:     0.0026 Training Accuracy: 0.6860\n",
      "Epoch 25, CIFAR-10 Batch 3:  Loss:     0.0005 Training Accuracy: 0.6838\n",
      "Epoch 25, CIFAR-10 Batch 4:  Loss:     0.0019 Training Accuracy: 0.6722\n",
      "Epoch 25, CIFAR-10 Batch 5:  Loss:     0.0016 Training Accuracy: 0.6876\n",
      "Epoch 26, CIFAR-10 Batch 1:  Loss:     0.0047 Training Accuracy: 0.6744\n",
      "Epoch 26, CIFAR-10 Batch 2:  Loss:     0.0060 Training Accuracy: 0.6792\n",
      "Epoch 26, CIFAR-10 Batch 3:  Loss:     0.0029 Training Accuracy: 0.6874\n",
      "Epoch 26, CIFAR-10 Batch 4:  Loss:     0.0023 Training Accuracy: 0.6788\n",
      "Epoch 26, CIFAR-10 Batch 5:  Loss:     0.0033 Training Accuracy: 0.6862\n",
      "Epoch 27, CIFAR-10 Batch 1:  Loss:     0.0018 Training Accuracy: 0.6806\n",
      "Epoch 27, CIFAR-10 Batch 2:  Loss:     0.0061 Training Accuracy: 0.6610\n",
      "Epoch 27, CIFAR-10 Batch 3:  Loss:     0.0036 Training Accuracy: 0.6912\n",
      "Epoch 27, CIFAR-10 Batch 4:  Loss:     0.0065 Training Accuracy: 0.6666\n",
      "Epoch 27, CIFAR-10 Batch 5:  Loss:     0.0005 Training Accuracy: 0.6828\n",
      "Epoch 28, CIFAR-10 Batch 1:  Loss:     0.0029 Training Accuracy: 0.6784\n",
      "Epoch 28, CIFAR-10 Batch 2:  Loss:     0.0021 Training Accuracy: 0.6776\n",
      "Epoch 28, CIFAR-10 Batch 3:  Loss:     0.0004 Training Accuracy: 0.6798\n",
      "Epoch 28, CIFAR-10 Batch 4:  Loss:     0.0002 Training Accuracy: 0.6802\n",
      "Epoch 28, CIFAR-10 Batch 5:  Loss:     0.0015 Training Accuracy: 0.6876\n",
      "Epoch 29, CIFAR-10 Batch 1:  Loss:     0.0076 Training Accuracy: 0.6872\n",
      "Epoch 29, CIFAR-10 Batch 2:  Loss:     0.0071 Training Accuracy: 0.6732\n",
      "Epoch 29, CIFAR-10 Batch 3:  Loss:     0.0012 Training Accuracy: 0.6766\n",
      "Epoch 29, CIFAR-10 Batch 4:  Loss:     0.0009 Training Accuracy: 0.6750\n",
      "Epoch 29, CIFAR-10 Batch 5:  Loss:     0.0005 Training Accuracy: 0.6878\n",
      "Epoch 30, CIFAR-10 Batch 1:  Loss:     0.0066 Training Accuracy: 0.6856\n",
      "Epoch 30, CIFAR-10 Batch 2:  Loss:     0.0004 Training Accuracy: 0.6836\n",
      "Epoch 30, CIFAR-10 Batch 3:  Loss:     0.0007 Training Accuracy: 0.6866\n",
      "Epoch 30, CIFAR-10 Batch 4:  Loss:     0.0008 Training Accuracy: 0.6796\n",
      "Epoch 30, CIFAR-10 Batch 5:  Loss:     0.0012 Training Accuracy: 0.6846\n",
      "Epoch 31, CIFAR-10 Batch 1:  Loss:     0.0019 Training Accuracy: 0.6864\n",
      "Epoch 31, CIFAR-10 Batch 2:  Loss:     0.0004 Training Accuracy: 0.6822\n",
      "Epoch 31, CIFAR-10 Batch 3:  Loss:     0.0007 Training Accuracy: 0.6880\n",
      "Epoch 31, CIFAR-10 Batch 4:  Loss:     0.0006 Training Accuracy: 0.6860\n",
      "Epoch 31, CIFAR-10 Batch 5:  Loss:     0.0003 Training Accuracy: 0.6946\n",
      "Epoch 32, CIFAR-10 Batch 1:  Loss:     0.0011 Training Accuracy: 0.6864\n",
      "Epoch 32, CIFAR-10 Batch 2:  Loss:     0.0021 Training Accuracy: 0.6722\n",
      "Epoch 32, CIFAR-10 Batch 3:  Loss:     0.0014 Training Accuracy: 0.6868\n",
      "Epoch 32, CIFAR-10 Batch 4:  Loss:     0.0003 Training Accuracy: 0.6812\n",
      "Epoch 32, CIFAR-10 Batch 5:  Loss:     0.0017 Training Accuracy: 0.6920\n",
      "Epoch 33, CIFAR-10 Batch 1:  Loss:     0.0004 Training Accuracy: 0.6856\n",
      "Epoch 33, CIFAR-10 Batch 2:  Loss:     0.0009 Training Accuracy: 0.6718\n",
      "Epoch 33, CIFAR-10 Batch 3:  Loss:     0.0007 Training Accuracy: 0.6868\n",
      "Epoch 33, CIFAR-10 Batch 4:  Loss:     0.0006 Training Accuracy: 0.6802\n",
      "Epoch 33, CIFAR-10 Batch 5:  Loss:     0.0024 Training Accuracy: 0.6876\n",
      "Epoch 34, CIFAR-10 Batch 1:  Loss:     0.0008 Training Accuracy: 0.6770\n",
      "Epoch 34, CIFAR-10 Batch 2:  Loss:     0.0004 Training Accuracy: 0.6544\n",
      "Epoch 34, CIFAR-10 Batch 3:  Loss:     0.0272 Training Accuracy: 0.6796\n",
      "Epoch 34, CIFAR-10 Batch 4:  Loss:     0.0011 Training Accuracy: 0.6842\n",
      "Epoch 34, CIFAR-10 Batch 5:  Loss:     0.0006 Training Accuracy: 0.6804\n",
      "Epoch 35, CIFAR-10 Batch 1:  Loss:     0.0005 Training Accuracy: 0.6784\n",
      "Epoch 35, CIFAR-10 Batch 2:  Loss:     0.0020 Training Accuracy: 0.6810\n",
      "Epoch 35, CIFAR-10 Batch 3:  Loss:     0.0022 Training Accuracy: 0.6822\n",
      "Epoch 35, CIFAR-10 Batch 4:  Loss:     0.0169 Training Accuracy: 0.6862\n",
      "Epoch 35, CIFAR-10 Batch 5:  Loss:     0.0004 Training Accuracy: 0.6896\n",
      "Epoch 36, CIFAR-10 Batch 1:  Loss:     0.0014 Training Accuracy: 0.6796\n",
      "Epoch 36, CIFAR-10 Batch 2:  Loss:     0.0017 Training Accuracy: 0.6762\n",
      "Epoch 36, CIFAR-10 Batch 3:  Loss:     0.0014 Training Accuracy: 0.6852\n",
      "Epoch 36, CIFAR-10 Batch 4:  Loss:     0.0087 Training Accuracy: 0.6756\n",
      "Epoch 36, CIFAR-10 Batch 5:  Loss:     0.0004 Training Accuracy: 0.6900\n",
      "Epoch 37, CIFAR-10 Batch 1:  Loss:     0.0010 Training Accuracy: 0.6868\n",
      "Epoch 37, CIFAR-10 Batch 2:  Loss:     0.0004 Training Accuracy: 0.6724\n",
      "Epoch 37, CIFAR-10 Batch 3:  Loss:     0.0010 Training Accuracy: 0.6794\n",
      "Epoch 37, CIFAR-10 Batch 4:  Loss:     0.0008 Training Accuracy: 0.6786\n",
      "Epoch 37, CIFAR-10 Batch 5:  Loss:     0.0010 Training Accuracy: 0.6836\n",
      "Epoch 38, CIFAR-10 Batch 1:  Loss:     0.0026 Training Accuracy: 0.6790\n",
      "Epoch 38, CIFAR-10 Batch 2:  Loss:     0.0023 Training Accuracy: 0.6500\n",
      "Epoch 38, CIFAR-10 Batch 3:  Loss:     0.0003 Training Accuracy: 0.6706\n",
      "Epoch 38, CIFAR-10 Batch 4:  Loss:     0.0002 Training Accuracy: 0.6872\n",
      "Epoch 38, CIFAR-10 Batch 5:  Loss:     0.0002 Training Accuracy: 0.6804\n",
      "Epoch 39, CIFAR-10 Batch 1:  Loss:     0.0012 Training Accuracy: 0.6836\n",
      "Epoch 39, CIFAR-10 Batch 2:  Loss:     0.0000 Training Accuracy: 0.6794\n",
      "Epoch 39, CIFAR-10 Batch 3:  Loss:     0.0002 Training Accuracy: 0.6838\n",
      "Epoch 39, CIFAR-10 Batch 4:  Loss:     0.0026 Training Accuracy: 0.6914\n",
      "Epoch 39, CIFAR-10 Batch 5:  Loss:     0.0003 Training Accuracy: 0.6672\n",
      "Epoch 40, CIFAR-10 Batch 1:  Loss:     0.0054 Training Accuracy: 0.6930\n",
      "Epoch 40, CIFAR-10 Batch 2:  Loss:     0.0004 Training Accuracy: 0.6694\n",
      "Epoch 40, CIFAR-10 Batch 3:  Loss:     0.0002 Training Accuracy: 0.6844\n",
      "Epoch 40, CIFAR-10 Batch 4:  Loss:     0.0014 Training Accuracy: 0.6632\n",
      "Epoch 40, CIFAR-10 Batch 5:  Loss:     0.0011 Training Accuracy: 0.6806\n",
      "Epoch 41, CIFAR-10 Batch 1:  Loss:     0.0003 Training Accuracy: 0.6862\n",
      "Epoch 41, CIFAR-10 Batch 2:  Loss:     0.0001 Training Accuracy: 0.6828\n",
      "Epoch 41, CIFAR-10 Batch 3:  Loss:     0.0005 Training Accuracy: 0.6690\n",
      "Epoch 41, CIFAR-10 Batch 4:  Loss:     0.0077 Training Accuracy: 0.6846\n",
      "Epoch 41, CIFAR-10 Batch 5:  Loss:     0.0005 Training Accuracy: 0.6846\n",
      "Epoch 42, CIFAR-10 Batch 1:  Loss:     0.0041 Training Accuracy: 0.6778\n",
      "Epoch 42, CIFAR-10 Batch 2:  Loss:     0.0001 Training Accuracy: 0.6840\n",
      "Epoch 42, CIFAR-10 Batch 3:  Loss:     0.0003 Training Accuracy: 0.6914\n",
      "Epoch 42, CIFAR-10 Batch 4:  Loss:     0.0016 Training Accuracy: 0.6852\n",
      "Epoch 42, CIFAR-10 Batch 5:  Loss:     0.0005 Training Accuracy: 0.6816\n",
      "Epoch 43, CIFAR-10 Batch 1:  Loss:     0.0000 Training Accuracy: 0.6854\n",
      "Epoch 43, CIFAR-10 Batch 2:  Loss:     0.0020 Training Accuracy: 0.6692\n",
      "Epoch 43, CIFAR-10 Batch 3:  Loss:     0.0004 Training Accuracy: 0.6790\n",
      "Epoch 43, CIFAR-10 Batch 4:  Loss:     0.0008 Training Accuracy: 0.6770\n",
      "Epoch 43, CIFAR-10 Batch 5:  Loss:     0.0007 Training Accuracy: 0.6854\n",
      "Epoch 44, CIFAR-10 Batch 1:  Loss:     0.0001 Training Accuracy: 0.6880\n",
      "Epoch 44, CIFAR-10 Batch 2:  Loss:     0.0004 Training Accuracy: 0.6858\n",
      "Epoch 44, CIFAR-10 Batch 3:  Loss:     0.0002 Training Accuracy: 0.6852\n",
      "Epoch 44, CIFAR-10 Batch 4:  Loss:     0.0020 Training Accuracy: 0.6670\n",
      "Epoch 44, CIFAR-10 Batch 5:  Loss:     0.0003 Training Accuracy: 0.6852\n",
      "Epoch 45, CIFAR-10 Batch 1:  Loss:     0.0023 Training Accuracy: 0.6836\n",
      "Epoch 45, CIFAR-10 Batch 2:  Loss:     0.0013 Training Accuracy: 0.6678\n",
      "Epoch 45, CIFAR-10 Batch 3:  Loss:     0.0001 Training Accuracy: 0.6784\n",
      "Epoch 45, CIFAR-10 Batch 4:  Loss:     0.0002 Training Accuracy: 0.6780\n",
      "Epoch 45, CIFAR-10 Batch 5:  Loss:     0.0002 Training Accuracy: 0.6886\n",
      "Epoch 46, CIFAR-10 Batch 1:  Loss:     0.0005 Training Accuracy: 0.6936\n",
      "Epoch 46, CIFAR-10 Batch 2:  Loss:     0.0002 Training Accuracy: 0.6820\n",
      "Epoch 46, CIFAR-10 Batch 3:  Loss:     0.0000 Training Accuracy: 0.6870\n",
      "Epoch 46, CIFAR-10 Batch 4:  Loss:     0.0002 Training Accuracy: 0.6754\n",
      "Epoch 46, CIFAR-10 Batch 5:  Loss:     0.0001 Training Accuracy: 0.6892\n",
      "Epoch 47, CIFAR-10 Batch 1:  Loss:     0.0048 Training Accuracy: 0.6872\n",
      "Epoch 47, CIFAR-10 Batch 2:  Loss:     0.0000 Training Accuracy: 0.6788\n",
      "Epoch 47, CIFAR-10 Batch 3:  Loss:     0.0004 Training Accuracy: 0.6822\n",
      "Epoch 47, CIFAR-10 Batch 4:  Loss:     0.0001 Training Accuracy: 0.6794\n",
      "Epoch 47, CIFAR-10 Batch 5:  Loss:     0.0006 Training Accuracy: 0.6816\n",
      "Epoch 48, CIFAR-10 Batch 1:  Loss:     0.0012 Training Accuracy: 0.6832\n",
      "Epoch 48, CIFAR-10 Batch 2:  Loss:     0.0017 Training Accuracy: 0.6818\n",
      "Epoch 48, CIFAR-10 Batch 3:  Loss:     0.0002 Training Accuracy: 0.6928\n",
      "Epoch 48, CIFAR-10 Batch 4:  Loss:     0.0017 Training Accuracy: 0.6862\n",
      "Epoch 48, CIFAR-10 Batch 5:  Loss:     0.0004 Training Accuracy: 0.6802\n",
      "Epoch 49, CIFAR-10 Batch 1:  Loss:     0.0004 Training Accuracy: 0.6856\n",
      "Epoch 49, CIFAR-10 Batch 2:  Loss:     0.0000 Training Accuracy: 0.6832\n",
      "Epoch 49, CIFAR-10 Batch 3:  Loss:     0.0000 Training Accuracy: 0.6886\n",
      "Epoch 49, CIFAR-10 Batch 4:  Loss:     0.0001 Training Accuracy: 0.6762\n",
      "Epoch 49, CIFAR-10 Batch 5:  Loss:     0.0001 Training Accuracy: 0.6844\n",
      "Epoch 50, CIFAR-10 Batch 1:  Loss:     0.0011 Training Accuracy: 0.6776\n",
      "Epoch 50, CIFAR-10 Batch 2:  Loss:     0.0000 Training Accuracy: 0.6842\n",
      "Epoch 50, CIFAR-10 Batch 3:  Loss:     0.0002 Training Accuracy: 0.6754\n",
      "Epoch 50, CIFAR-10 Batch 4:  Loss:     0.0000 Training Accuracy: 0.6920\n",
      "Epoch 50, CIFAR-10 Batch 5:  Loss:     0.0240 Training Accuracy: 0.6834\n"
     ]
    }
   ],
   "source": [
    "\"\"\"\n",
    "DON'T MODIFY ANYTHING IN THIS CELL\n",
    "\"\"\"\n",
    "save_model_path = './image_classification'\n",
    "\n",
    "print('Training...')\n",
    "with tf.Session() as sess:\n",
    "    # Initializing the variables\n",
    "    sess.run(tf.global_variables_initializer())\n",
    "    \n",
    "    # Training cycle\n",
    "    for epoch in range(epochs):\n",
    "        # Loop over all batches\n",
    "        n_batches = 5\n",
    "        for batch_i in range(1, n_batches + 1):\n",
    "            for batch_features, batch_labels in helper.load_preprocess_training_batch(batch_i, batch_size):\n",
    "                train_neural_network(sess, optimizer, keep_probability, batch_features, batch_labels)\n",
    "            print('Epoch {:>2}, CIFAR-10 Batch {}:  '.format(epoch + 1, batch_i), end='')\n",
    "            print_stats(sess, batch_features, batch_labels, cost, accuracy)\n",
    "            \n",
    "    # Save Model\n",
    "    saver = tf.train.Saver()\n",
    "    save_path = saver.save(sess, save_model_path)"
   ]
  },
  {
   "cell_type": "markdown",
   "metadata": {
    "deletable": true,
    "editable": true
   },
   "source": [
    "# Checkpoint\n",
    "The model has been saved to disk.\n",
    "## Test Model\n",
    "Test your model against the test dataset.  This will be your final accuracy. You should have an accuracy greater than 50%. If you don't, keep tweaking the model architecture and parameters."
   ]
  },
  {
   "cell_type": "code",
   "execution_count": 32,
   "metadata": {
    "collapsed": false,
    "deletable": true,
    "editable": true
   },
   "outputs": [
    {
     "name": "stdout",
     "output_type": "stream",
     "text": [
      "Testing Accuracy: 0.6792396496815286\n",
      "\n"
     ]
    },
    {
     "data": {
      "image/png": "[encoded data removed]",
      "text/plain": [
       "<matplotlib.figure.Figure at 0x7f9478e3df28>"
      ]
     },
     "metadata": {
      "image/png": {
       "height": 319,
       "width": 355
      }
     },
     "output_type": "display_data"
    }
   ],
   "source": [
    "\"\"\"\n",
    "DON'T MODIFY ANYTHING IN THIS CELL\n",
    "\"\"\"\n",
    "%matplotlib inline\n",
    "%config InlineBackend.figure_format = 'retina'\n",
    "\n",
    "import tensorflow as tf\n",
    "import pickle\n",
    "import helper\n",
    "import random\n",
    "\n",
    "# Set batch size if not already set\n",
    "try:\n",
    "    if batch_size:\n",
    "        pass\n",
    "except NameError:\n",
    "    batch_size = 64\n",
    "\n",
    "save_model_path = './image_classification'\n",
    "n_samples = 4\n",
    "top_n_predictions = 3\n",
    "\n",
    "def test_model():\n",
    "    \"\"\"\n",
    "    Test the saved model against the test dataset\n",
    "    \"\"\"\n",
    "\n",
    "    test_features, test_labels = pickle.load(open('preprocess_training.p', mode='rb'))\n",
    "    loaded_graph = tf.Graph()\n",
    "\n",
    "    with tf.Session(graph=loaded_graph) as sess:\n",
    "        # Load model\n",
    "        loader = tf.train.import_meta_graph(save_model_path + '.meta')\n",
    "        loader.restore(sess, save_model_path)\n",
    "\n",
    "        # Get Tensors from loaded model\n",
    "        loaded_x = loaded_graph.get_tensor_by_name('x:0')\n",
    "        loaded_y = loaded_graph.get_tensor_by_name('y:0')\n",
    "        loaded_keep_prob = loaded_graph.get_tensor_by_name('keep_prob:0')\n",
    "        loaded_logits = loaded_graph.get_tensor_by_name('logits:0')\n",
    "        loaded_acc = loaded_graph.get_tensor_by_name('accuracy:0')\n",
    "        \n",
    "        # Get accuracy in batches for memory limitations\n",
    "        test_batch_acc_total = 0\n",
    "        test_batch_count = 0\n",
    "        \n",
    "        for train_feature_batch, train_label_batch in helper.batch_features_labels(test_features, test_labels, batch_size):\n",
    "            test_batch_acc_total += sess.run(\n",
    "                loaded_acc,\n",
    "                feed_dict={loaded_x: train_feature_batch, loaded_y: train_label_batch, loaded_keep_prob: 1.0})\n",
    "            test_batch_count += 1\n",
    "\n",
    "        print('Testing Accuracy: {}\\n'.format(test_batch_acc_total/test_batch_count))\n",
    "\n",
    "        # Print Random Samples\n",
    "        random_test_features, random_test_labels = tuple(zip(*random.sample(list(zip(test_features, test_labels)), n_samples)))\n",
    "        random_test_predictions = sess.run(\n",
    "            tf.nn.top_k(tf.nn.softmax(loaded_logits), top_n_predictions),\n",
    "            feed_dict={loaded_x: random_test_features, loaded_y: random_test_labels, loaded_keep_prob: 1.0})\n",
    "        helper.display_image_predictions(random_test_features, random_test_labels, random_test_predictions)\n",
    "\n",
    "\n",
    "test_model()"
   ]
  },
  {
   "cell_type": "markdown",
   "metadata": {
    "deletable": true,
    "editable": true
   },
   "source": [
    "## Why 50-70% Accuracy?\n",
    "You might be wondering why you can't get an accuracy any higher. First things first, 50% isn't bad for a simple CNN.  Pure guessing would get you 10% accuracy. However, you might notice people are getting scores [well above 70%](http://rodrigob.github.io/are_we_there_yet/build/classification_datasets_results.html#43494641522d3130).  That's because we haven't taught you all there is to know about neural networks. We still need to cover a few more techniques.\n",
    "## Submitting This Project\n",
    "When submitting this project, make sure to run all the cells before saving the notebook.  Save the notebook file as \"dlnd_image_classification.ipynb\" and save it as a HTML file under \"File\" -> \"Download as\".  Include the \"helper.py\" and \"problem_unittests.py\" files in your submission."
   ]
  }
 ],
 "metadata": {
  "kernelspec": {
   "display_name": "Python 3",
   "language": "python",
   "name": "python3"
  },
  "language_info": {
   "codemirror_mode": {
    "name": "ipython",
    "version": 3
   },
   "file_extension": ".py",
   "mimetype": "text/x-python",
   "name": "python",
   "nbconvert_exporter": "python",
   "pygments_lexer": "ipython3",
   "version": "3.5.2"
  },
  "widgets": {
   "state": {},
   "version": "1.1.2"
  }
 },
 "nbformat": 4,
 "nbformat_minor": 0
}
