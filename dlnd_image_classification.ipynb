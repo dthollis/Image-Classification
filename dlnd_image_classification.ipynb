{
 "cells": [
  {
   "cell_type": "markdown",
   "metadata": {
    "collapsed": true,
    "deletable": true,
    "editable": true
   },
   "source": [
    "# Image Classification\n",
    "In this project, you'll classify images from the [CIFAR-10 dataset](https://www.cs.toronto.edu/~kriz/cifar.html).  The dataset consists of airplanes, dogs, cats, and other objects. You'll preprocess the images, then train a convolutional neural network on all the samples. The images need to be normalized and the labels need to be one-hot encoded.  You'll get to apply what you learned and build a convolutional, max pooling, dropout, and fully connected layers.  At the end, you'll get to see your neural network's predictions on the sample images.\n",
    "## Get the Data\n",
    "Run the following cell to download the [CIFAR-10 dataset for python](https://www.cs.toronto.edu/~kriz/cifar-10-python.tar.gz)."
   ]
  },
  {
   "cell_type": "code",
   "execution_count": 4,
   "metadata": {
    "collapsed": false,
    "deletable": true,
    "editable": true
   },
   "outputs": [
    {
     "name": "stdout",
     "output_type": "stream",
     "text": [
      "All files found!\n"
     ]
    }
   ],
   "source": [
    "\"\"\"\n",
    "DON'T MODIFY ANYTHING IN THIS CELL THAT IS BELOW THIS LINE\n",
    "\"\"\"\n",
    "from urllib.request import urlretrieve\n",
    "from os.path import isfile, isdir\n",
    "from tqdm import tqdm\n",
    "import problem_unittests as tests\n",
    "import tarfile\n",
    "\n",
    "cifar10_dataset_folder_path = 'cifar-10-batches-py'\n",
    "\n",
    "class DLProgress(tqdm):\n",
    "    last_block = 0\n",
    "\n",
    "    def hook(self, block_num=1, block_size=1, total_size=None):\n",
    "        self.total = total_size\n",
    "        self.update((block_num - self.last_block) * block_size)\n",
    "        self.last_block = block_num\n",
    "\n",
    "if not isfile('cifar-10-python.tar.gz'):\n",
    "    with DLProgress(unit='B', unit_scale=True, miniters=1, desc='CIFAR-10 Dataset') as pbar:\n",
    "        urlretrieve(\n",
    "            'https://www.cs.toronto.edu/~kriz/cifar-10-python.tar.gz',\n",
    "            'cifar-10-python.tar.gz',\n",
    "            pbar.hook)\n",
    "\n",
    "if not isdir(cifar10_dataset_folder_path):\n",
    "    with tarfile.open('cifar-10-python.tar.gz') as tar:\n",
    "        tar.extractall()\n",
    "        tar.close()\n",
    "\n",
    "\n",
    "tests.test_folder_path(cifar10_dataset_folder_path)"
   ]
  },
  {
   "cell_type": "markdown",
   "metadata": {
    "deletable": true,
    "editable": true
   },
   "source": [
    "## Explore the Data\n",
    "The dataset is broken into batches to prevent your machine from running out of memory.  The CIFAR-10 dataset consists of 5 batches, named `data_batch_1`, `data_batch_2`, etc.. Each batch contains the labels and images that are one of the following:\n",
    "* airplane\n",
    "* automobile\n",
    "* bird\n",
    "* cat\n",
    "* deer\n",
    "* dog\n",
    "* frog\n",
    "* horse\n",
    "* ship\n",
    "* truck\n",
    "\n",
    "Understanding a dataset is part of making predictions on the data.  Play around with the code cell below by changing the `batch_id` and `sample_id`. The `batch_id` is the id for a batch (1-5). The `sample_id` is the id for a image and label pair in the batch.\n",
    "\n",
    "Ask yourself \"What are all possible labels?\", \"What is the range of values for the image data?\", \"Are the labels in order or random?\".  Answers to questions like these will help you preprocess the data and end up with better predictions."
   ]
  },
  {
   "cell_type": "code",
   "execution_count": 5,
   "metadata": {
    "collapsed": false,
    "deletable": true,
    "editable": true
   },
   "outputs": [
    {
     "name": "stdout",
     "output_type": "stream",
     "text": [
      "\n",
      "Stats of batch 1:\n",
      "Samples: 10000\n",
      "Label Counts: {0: 1005, 1: 974, 2: 1032, 3: 1016, 4: 999, 5: 937, 6: 1030, 7: 1001, 8: 1025, 9: 981}\n",
      "First 20 Labels: [6, 9, 9, 4, 1, 1, 2, 7, 8, 3, 4, 7, 7, 2, 9, 9, 9, 3, 2, 6]\n",
      "\n",
      "Example of Image 5:\n",
      "Image - Min Value: 0 Max Value: 252\n",
      "Image - Shape: (32, 32, 3)\n",
      "Label - Label Id: 1 Name: automobile\n"
     ]
    },
    {
     "data": {
      "image/png": "[encoded data removed]",
      "text/plain": [
       "<matplotlib.figure.Figure at 0x7f9b7d587240>"
      ]
     },
     "metadata": {
      "image/png": {
       "height": 250,
       "width": 253
      }
     },
     "output_type": "display_data"
    }
   ],
   "source": [
    "%matplotlib inline\n",
    "%config InlineBackend.figure_format = 'retina'\n",
    "\n",
    "import helper\n",
    "import numpy as np\n",
    "\n",
    "# Explore the dataset\n",
    "batch_id = 1\n",
    "sample_id = 5\n",
    "helper.display_stats(cifar10_dataset_folder_path, batch_id, sample_id)"
   ]
  },
  {
   "cell_type": "markdown",
   "metadata": {
    "deletable": true,
    "editable": true
   },
   "source": [
    "## Implement Preprocess Functions\n",
    "### Normalize\n",
    "In the cell below, implement the `normalize` function to take in image data, `x`, and return it as a normalized Numpy array. The values should be in the range of 0 to 1, inclusive.  The return object should be the same shape as `x`."
   ]
  },
  {
   "cell_type": "code",
   "execution_count": 6,
   "metadata": {
    "collapsed": false,
    "deletable": true,
    "editable": true
   },
   "outputs": [
    {
     "name": "stdout",
     "output_type": "stream",
     "text": [
      "Tests Passed\n"
     ]
    }
   ],
   "source": [
    "def normalize(x):\n",
    "    \"\"\"\n",
    "    Normalize a list of sample image data in the range of 0 to 1\n",
    "    : x: List of image data.  The image shape is (32, 32, 3)\n",
    "    : return: Numpy array of normalize data\n",
    "    \"\"\"\n",
    "    return x / np.linalg.norm(x)\n",
    "\n",
    "\n",
    "\"\"\"\n",
    "DON'T MODIFY ANYTHING IN THIS CELL THAT IS BELOW THIS LINE\n",
    "\"\"\"\n",
    "tests.test_normalize(normalize)"
   ]
  },
  {
   "cell_type": "markdown",
   "metadata": {
    "deletable": true,
    "editable": true
   },
   "source": [
    "### One-hot encode\n",
    "Just like the previous code cell, you'll be implementing a function for preprocessing.  This time, you'll implement the `one_hot_encode` function. The input, `x`, are a list of labels.  Implement the function to return the list of labels as One-Hot encoded Numpy array.  The possible values for labels are 0 to 9. The one-hot encoding function should return the same encoding for each value between each call to `one_hot_encode`.  Make sure to save the map of encodings outside the function.\n",
    "\n",
    "Hint: Don't reinvent the wheel."
   ]
  },
  {
   "cell_type": "code",
   "execution_count": 7,
   "metadata": {
    "collapsed": false,
    "deletable": true,
    "editable": true
   },
   "outputs": [
    {
     "name": "stdout",
     "output_type": "stream",
     "text": [
      "Tests Passed\n"
     ]
    }
   ],
   "source": [
    "from sklearn.preprocessing import LabelBinarizer\n",
    "\n",
    "isEncoded = False\n",
    "encode = LabelBinarizer()\n",
    "\n",
    "def one_hot_encode(x):\n",
    "    \"\"\"\n",
    "    One hot encode a list of sample labels. Return a one-hot encoded vector for each label.\n",
    "    : x: List of sample Labels\n",
    "    : return: Numpy array of one-hot encoded labels\n",
    "    \"\"\"\n",
    "    global isEncoded\n",
    "    \n",
    "    if not isEncoded:\n",
    "        encode.fit(x)\n",
    "        isEncoded = True\n",
    "        \n",
    "    return encode.transform(x)\n",
    "\n",
    "\"\"\"\n",
    "DON'T MODIFY ANYTHING IN THIS CELL THAT IS BELOW THIS LINE\n",
    "\"\"\"\n",
    "tests.test_one_hot_encode(one_hot_encode)"
   ]
  },
  {
   "cell_type": "markdown",
   "metadata": {
    "deletable": true,
    "editable": true
   },
   "source": [
    "### Randomize Data\n",
    "As you saw from exploring the data above, the order of the samples are randomized.  It doesn't hurt to randomize it again, but you don't need to for this dataset."
   ]
  },
  {
   "cell_type": "markdown",
   "metadata": {
    "deletable": true,
    "editable": true
   },
   "source": [
    "## Preprocess all the data and save it\n",
    "Running the code cell below will preprocess all the CIFAR-10 data and save it to file. The code below also uses 10% of the training data for validation."
   ]
  },
  {
   "cell_type": "code",
   "execution_count": 8,
   "metadata": {
    "collapsed": false,
    "deletable": true,
    "editable": true
   },
   "outputs": [],
   "source": [
    "\"\"\"\n",
    "DON'T MODIFY ANYTHING IN THIS CELL\n",
    "\"\"\"\n",
    "# Preprocess Training, Validation, and Testing Data\n",
    "helper.preprocess_and_save_data(cifar10_dataset_folder_path, normalize, one_hot_encode)"
   ]
  },
  {
   "cell_type": "markdown",
   "metadata": {
    "deletable": true,
    "editable": true
   },
   "source": [
    "# Check Point\n",
    "This is your first checkpoint.  If you ever decide to come back to this notebook or have to restart the notebook, you can start from here.  The preprocessed data has been saved to disk."
   ]
  },
  {
   "cell_type": "code",
   "execution_count": 9,
   "metadata": {
    "collapsed": true,
    "deletable": true,
    "editable": true
   },
   "outputs": [],
   "source": [
    "\"\"\"\n",
    "DON'T MODIFY ANYTHING IN THIS CELL\n",
    "\"\"\"\n",
    "import pickle\n",
    "import problem_unittests as tests\n",
    "import helper\n",
    "\n",
    "# Load the Preprocessed Validation data\n",
    "valid_features, valid_labels = pickle.load(open('preprocess_validation.p', mode='rb'))"
   ]
  },
  {
   "cell_type": "markdown",
   "metadata": {
    "deletable": true,
    "editable": true
   },
   "source": [
    "## Build the network\n",
    "For the neural network, you'll build each layer into a function.  Most of the code you've seen has been outside of functions. To test your code more thoroughly, we require that you put each layer in a function.  This allows us to give you better feedback and test for simple mistakes using our unittests before you submit your project.\n",
    "\n",
    ">**Note:** If you're finding it hard to dedicate enough time for this course each week, we've provided a small shortcut to this part of the project. In the next couple of problems, you'll have the option to use classes from the [TensorFlow Layers](https://www.tensorflow.org/api_docs/python/tf/layers) or [TensorFlow Layers (contrib)](https://www.tensorflow.org/api_guides/python/contrib.layers) packages to build each layer, except the layers you build in the \"Convolutional and Max Pooling Layer\" section.  TF Layers is similar to Keras's and TFLearn's abstraction to layers, so it's easy to pickup.\n",
    "\n",
    ">However, if you would like to get the most out of this course, try to solve all the problems _without_ using anything from the TF Layers packages. You **can** still use classes from other packages that happen to have the same name as ones you find in TF Layers! For example, instead of using the TF Layers version of the `conv2d` class, [tf.layers.conv2d](https://www.tensorflow.org/api_docs/python/tf/layers/conv2d), you would want to use the TF Neural Network version of `conv2d`, [tf.nn.conv2d](https://www.tensorflow.org/api_docs/python/tf/nn/conv2d). \n",
    "\n",
    "Let's begin!\n",
    "\n",
    "### Input\n",
    "The neural network needs to read the image data, one-hot encoded labels, and dropout keep probability. Implement the following functions\n",
    "* Implement `neural_net_image_input`\n",
    " * Return a [TF Placeholder](https://www.tensorflow.org/api_docs/python/tf/placeholder)\n",
    " * Set the shape using `image_shape` with batch size set to `None`.\n",
    " * Name the TensorFlow placeholder \"x\" using the TensorFlow `name` parameter in the [TF Placeholder](https://www.tensorflow.org/api_docs/python/tf/placeholder).\n",
    "* Implement `neural_net_label_input`\n",
    " * Return a [TF Placeholder](https://www.tensorflow.org/api_docs/python/tf/placeholder)\n",
    " * Set the shape using `n_classes` with batch size set to `None`.\n",
    " * Name the TensorFlow placeholder \"y\" using the TensorFlow `name` parameter in the [TF Placeholder](https://www.tensorflow.org/api_docs/python/tf/placeholder).\n",
    "* Implement `neural_net_keep_prob_input`\n",
    " * Return a [TF Placeholder](https://www.tensorflow.org/api_docs/python/tf/placeholder) for dropout keep probability.\n",
    " * Name the TensorFlow placeholder \"keep_prob\" using the TensorFlow `name` parameter in the [TF Placeholder](https://www.tensorflow.org/api_docs/python/tf/placeholder).\n",
    "\n",
    "These names will be used at the end of the project to load your saved model.\n",
    "\n",
    "Note: `None` for shapes in TensorFlow allow for a dynamic size."
   ]
  },
  {
   "cell_type": "code",
   "execution_count": 10,
   "metadata": {
    "collapsed": false,
    "deletable": true,
    "editable": true
   },
   "outputs": [
    {
     "name": "stdout",
     "output_type": "stream",
     "text": [
      "Image Input Tests Passed.\n",
      "Label Input Tests Passed.\n",
      "Keep Prob Tests Passed.\n"
     ]
    }
   ],
   "source": [
    "import tensorflow as tf\n",
    "\n",
    "def neural_net_image_input(image_shape):\n",
    "    \"\"\"\n",
    "    Return a Tensor for a bach of image input\n",
    "    : image_shape: Shape of the images\n",
    "    : return: Tensor for image input.\n",
    "    \"\"\"\n",
    "    return tf.placeholder(tf.float32, [None, image_shape[0], image_shape[1], image_shape[2]], name='x')\n",
    "\n",
    "\n",
    "def neural_net_label_input(n_classes):\n",
    "    \"\"\"\n",
    "    Return a Tensor for a batch of label input\n",
    "    : n_classes: Number of classes\n",
    "    : return: Tensor for label input.\n",
    "    \"\"\"\n",
    "    return tf.placeholder(tf.float32, [None, n_classes], name='y')\n",
    "\n",
    "\n",
    "def neural_net_keep_prob_input():\n",
    "    \"\"\"\n",
    "    Return a Tensor for keep probability\n",
    "    : return: Tensor for keep probability.\n",
    "    \"\"\"\n",
    "    return tf.placeholder(tf.float32, name='keep_prob')\n",
    "\n",
    "\n",
    "\"\"\"\n",
    "DON'T MODIFY ANYTHING IN THIS CELL THAT IS BELOW THIS LINE\n",
    "\"\"\"\n",
    "tf.reset_default_graph()\n",
    "tests.test_nn_image_inputs(neural_net_image_input)\n",
    "tests.test_nn_label_inputs(neural_net_label_input)\n",
    "tests.test_nn_keep_prob_inputs(neural_net_keep_prob_input)"
   ]
  },
  {
   "cell_type": "markdown",
   "metadata": {
    "deletable": true,
    "editable": true
   },
   "source": [
    "### Convolution and Max Pooling Layer\n",
    "Convolution layers have a lot of success with images. For this code cell, you should implement the function `conv2d_maxpool` to apply convolution then max pooling:\n",
    "* Create the weight and bias using `conv_ksize`, `conv_num_outputs` and the shape of `x_tensor`.\n",
    "* Apply a convolution to `x_tensor` using weight and `conv_strides`.\n",
    " * We recommend you use same padding, but you're welcome to use any padding.\n",
    "* Add bias\n",
    "* Add a nonlinear activation to the convolution.\n",
    "* Apply Max Pooling using `pool_ksize` and `pool_strides`.\n",
    " * We recommend you use same padding, but you're welcome to use any padding.\n",
    "\n",
    "**Note:** You **can't** use [TensorFlow Layers](https://www.tensorflow.org/api_docs/python/tf/layers) or [TensorFlow Layers (contrib)](https://www.tensorflow.org/api_guides/python/contrib.layers) for **this** layer, but you can still use TensorFlow's [Neural Network](https://www.tensorflow.org/api_docs/python/tf/nn) package. You may still use the shortcut option for all the **other** layers."
   ]
  },
  {
   "cell_type": "code",
   "execution_count": 57,
   "metadata": {
    "collapsed": false,
    "deletable": true,
    "editable": true
   },
   "outputs": [
    {
     "name": "stdout",
     "output_type": "stream",
     "text": [
      "Tests Passed\n"
     ]
    }
   ],
   "source": [
    "def conv2d_maxpool(x_tensor, conv_num_outputs, conv_ksize, conv_strides, pool_ksize, pool_strides):\n",
    "    \"\"\"\n",
    "    Apply convolution then max pooling to x_tensor\n",
    "    :param x_tensor: TensorFlow Tensor\n",
    "    :param conv_num_outputs: Number of outputs for the convolutional layer\n",
    "    :param conv_ksize: kernal size 2-D Tuple for the convolutional layer\n",
    "    :param conv_strides: Stride 2-D Tuple for convolution\n",
    "    :param pool_ksize: kernal size 2-D Tuple for pool\n",
    "    :param pool_strides: Stride 2-D Tuple for pool\n",
    "    : return: A tensor that represents convolution and max pooling of x_tensor\n",
    "    \"\"\"\n",
    "    weight = tf.Variable(tf.truncated_normal([int(conv_ksize[0]), int(conv_ksize[1]), int(x_tensor.shape[3]), int(conv_num_outputs)]))\n",
    "    bias = tf.Variable(tf.zeros([conv_num_outputs]))\n",
    "\n",
    "    x_tensor = tf.nn.conv2d(x_tensor, weight, strides=[1, conv_strides[0], conv_strides[1], 1], padding='SAME')\n",
    "    x_tensor = tf.nn.bias_add(x_tensor, bias)\n",
    "    #x_tensor = tf.nn.relu(x_tensor)\n",
    "    x_tensor = tf.nn.max_pool(x_tensor, ksize=[1, pool_ksize[0], pool_ksize[1], 1], strides=[1, pool_strides[0], pool_strides[1], 1], padding='SAME')\n",
    "    \n",
    "    return x_tensor\n",
    "\n",
    "\n",
    "\"\"\"\n",
    "DON'T MODIFY ANYTHING IN THIS CELL THAT IS BELOW THIS LINE\n",
    "\"\"\"\n",
    "tests.test_con_pool(conv2d_maxpool)"
   ]
  },
  {
   "cell_type": "markdown",
   "metadata": {
    "deletable": true,
    "editable": true
   },
   "source": [
    "### Flatten Layer\n",
    "Implement the `flatten` function to change the dimension of `x_tensor` from a 4-D tensor to a 2-D tensor.  The output should be the shape (*Batch Size*, *Flattened Image Size*). Shortcut option: you can use classes from the [TensorFlow Layers](https://www.tensorflow.org/api_docs/python/tf/layers) or [TensorFlow Layers (contrib)](https://www.tensorflow.org/api_guides/python/contrib.layers) packages for this layer. For more of a challenge, only use other TensorFlow packages."
   ]
  },
  {
   "cell_type": "code",
   "execution_count": 58,
   "metadata": {
    "collapsed": false,
    "deletable": true,
    "editable": true
   },
   "outputs": [
    {
     "name": "stdout",
     "output_type": "stream",
     "text": [
      "Tests Passed\n"
     ]
    }
   ],
   "source": [
    "def flatten(x_tensor):\n",
    "    \"\"\"\n",
    "    Flatten x_tensor to (Batch Size, Flattened Image Size)\n",
    "    : x_tensor: A tensor of size (Batch Size, ...), where ... are the image dimensions.\n",
    "    : return: A tensor of size (Batch Size, Flattened Image Size).\n",
    "    \"\"\"\n",
    "    dim = tf.Variable(tf.truncated_normal([int(x_tensor.shape[1]*x_tensor.shape[2]*x_tensor.shape[3])]))\n",
    "    \n",
    "    return tf.reshape(x_tensor, [-1, dim.get_shape().as_list()[0]])\n",
    "\n",
    "\n",
    "\"\"\"\n",
    "DON'T MODIFY ANYTHING IN THIS CELL THAT IS BELOW THIS LINE\n",
    "\"\"\"\n",
    "tests.test_flatten(flatten)"
   ]
  },
  {
   "cell_type": "markdown",
   "metadata": {
    "deletable": true,
    "editable": true
   },
   "source": [
    "### Fully-Connected Layer\n",
    "Implement the `fully_conn` function to apply a fully connected layer to `x_tensor` with the shape (*Batch Size*, *num_outputs*). Shortcut option: you can use classes from the [TensorFlow Layers](https://www.tensorflow.org/api_docs/python/tf/layers) or [TensorFlow Layers (contrib)](https://www.tensorflow.org/api_guides/python/contrib.layers) packages for this layer. For more of a challenge, only use other TensorFlow packages."
   ]
  },
  {
   "cell_type": "code",
   "execution_count": 59,
   "metadata": {
    "collapsed": false,
    "deletable": true,
    "editable": true
   },
   "outputs": [
    {
     "name": "stdout",
     "output_type": "stream",
     "text": [
      "Tests Passed\n"
     ]
    }
   ],
   "source": [
    "def fully_conn(x_tensor, num_outputs):\n",
    "    \"\"\"\n",
    "    Apply a fully connected layer to x_tensor using weight and bias\n",
    "    : x_tensor: A 2-D tensor where the first dimension is batch size.\n",
    "    : num_outputs: The number of output that the new tensor should be.\n",
    "    : return: A 2-D tensor where the second dimension is num_outputs.\n",
    "    \"\"\"\n",
    "    weight = tf.Variable(tf.truncated_normal([int(x_tensor.shape[1]), num_outputs]))\n",
    "    bias = tf.Variable(tf.zeros([num_outputs]))\n",
    "    \n",
    "    x_tensor = tf.add(tf.matmul(x_tensor, weight), bias)\n",
    "    #x_tensor = tf.nn.relu(x_tensor)\n",
    "    \n",
    "    return x_tensor\n",
    "\n",
    "\n",
    "\"\"\"\n",
    "DON'T MODIFY ANYTHING IN THIS CELL THAT IS BELOW THIS LINE\n",
    "\"\"\"\n",
    "tests.test_fully_conn(fully_conn)"
   ]
  },
  {
   "cell_type": "markdown",
   "metadata": {
    "deletable": true,
    "editable": true
   },
   "source": [
    "### Output Layer\n",
    "Implement the `output` function to apply a fully connected layer to `x_tensor` with the shape (*Batch Size*, *num_outputs*). Shortcut option: you can use classes from the [TensorFlow Layers](https://www.tensorflow.org/api_docs/python/tf/layers) or [TensorFlow Layers (contrib)](https://www.tensorflow.org/api_guides/python/contrib.layers) packages for this layer. For more of a challenge, only use other TensorFlow packages.\n",
    "\n",
    "**Note:** Activation, softmax, or cross entropy should **not** be applied to this."
   ]
  },
  {
   "cell_type": "code",
   "execution_count": 60,
   "metadata": {
    "collapsed": false,
    "deletable": true,
    "editable": true
   },
   "outputs": [
    {
     "name": "stdout",
     "output_type": "stream",
     "text": [
      "Tests Passed\n"
     ]
    }
   ],
   "source": [
    "def output(x_tensor, num_outputs):\n",
    "    \"\"\"\n",
    "    Apply a output layer to x_tensor using weight and bias\n",
    "    : x_tensor: A 2-D tensor where the first dimension is batch size.\n",
    "    : num_outputs: The number of output that the new tensor should be.\n",
    "    : return: A 2-D tensor where the second dimension is num_outputs.\n",
    "    \"\"\"\n",
    "    weight = tf.Variable(tf.truncated_normal([int(x_tensor.shape[1]), num_outputs]))\n",
    "    bias = tf.Variable(tf.zeros([num_outputs]))\n",
    "    \n",
    "    out = tf.add(tf.matmul(x_tensor, weight), bias)\n",
    "\n",
    "    return out\n",
    "\n",
    "\n",
    "\"\"\"\n",
    "DON'T MODIFY ANYTHING IN THIS CELL THAT IS BELOW THIS LINE\n",
    "\"\"\"\n",
    "tests.test_output(output)"
   ]
  },
  {
   "cell_type": "markdown",
   "metadata": {
    "deletable": true,
    "editable": true
   },
   "source": [
    "### Create Convolutional Model\n",
    "Implement the function `conv_net` to create a convolutional neural network model. The function takes in a batch of images, `x`, and outputs logits.  Use the layers you created above to create this model:\n",
    "\n",
    "* Apply 1, 2, or 3 Convolution and Max Pool layers\n",
    "* Apply a Flatten Layer\n",
    "* Apply 1, 2, or 3 Fully Connected Layers\n",
    "* Apply an Output Layer\n",
    "* Return the output\n",
    "* Apply [TensorFlow's Dropout](https://www.tensorflow.org/api_docs/python/tf/nn/dropout) to one or more layers in the model using `keep_prob`. "
   ]
  },
  {
   "cell_type": "code",
   "execution_count": 61,
   "metadata": {
    "collapsed": false,
    "deletable": true,
    "editable": true
   },
   "outputs": [
    {
     "name": "stdout",
     "output_type": "stream",
     "text": [
      "Neural Network Built!\n"
     ]
    }
   ],
   "source": [
    "def conv_net(x, keep_prob):\n",
    "    \"\"\"\n",
    "    Create a convolutional neural network model\n",
    "    : x: Placeholder tensor that holds image data.\n",
    "    : keep_prob: Placeholder tensor that hold dropout keep probability.\n",
    "    : return: Tensor that represents logits\n",
    "    \"\"\"\n",
    "    conv_ksize = (3, 3)\n",
    "    conv_strides = (1, 1)\n",
    "    pool_ksize = (2, 2)\n",
    "    pool_strides = (2, 2)\n",
    "    \n",
    "    # TODO: Apply 1, 2, or 3 Convolution and Max Pool layers\n",
    "    # Play around with different number of outputs, kernel size and stride\n",
    "    # Function Definition from Above:\n",
    "    x1 = conv2d_maxpool(x, 32, conv_ksize, conv_strides, pool_ksize, pool_strides)\n",
    "    x2 = conv2d_maxpool(x1, 64, conv_ksize, conv_strides, pool_ksize, pool_strides)\n",
    "    x2 = tf.nn.dropout(x2, keep_prob)\n",
    "    x3 = conv2d_maxpool(x2, 128, conv_ksize, conv_strides, pool_ksize, pool_strides)\n",
    "    x4 = conv2d_maxpool(x3, 512, conv_ksize, conv_strides, pool_ksize, pool_strides)\n",
    "\n",
    "    # Function Definition from Above:\n",
    "    fc = flatten(x2)\n",
    "\n",
    "    # Play around with different number of outputs\n",
    "    # Function Definition from Above:\n",
    "    fc1 = fully_conn(fc, 1024)\n",
    "    fc1 = tf.nn.dropout(fc1, keep_prob)\n",
    "\n",
    "    # Set this to the number of classes\n",
    "    # Function Definition from Above:\n",
    "    out = output(fc1, 10)\n",
    "    \n",
    "    return out\n",
    "\n",
    "\n",
    "\"\"\"\n",
    "DON'T MODIFY ANYTHING IN THIS CELL THAT IS BELOW THIS LINE\n",
    "\"\"\"\n",
    "\n",
    "##############################\n",
    "## Build the Neural Network ##\n",
    "##############################\n",
    "\n",
    "# Remove previous weights, bias, inputs, etc..\n",
    "tf.reset_default_graph()\n",
    "\n",
    "# Inputs\n",
    "x = neural_net_image_input((32, 32, 3))\n",
    "y = neural_net_label_input(10)\n",
    "keep_prob = neural_net_keep_prob_input()\n",
    "\n",
    "# Model\n",
    "logits = conv_net(x, keep_prob)\n",
    "\n",
    "# Name logits Tensor, so that is can be loaded from disk after training\n",
    "logits = tf.identity(logits, name='logits')\n",
    "\n",
    "# Loss and Optimizer\n",
    "cost = tf.reduce_mean(tf.nn.softmax_cross_entropy_with_logits(logits=logits, labels=y))\n",
    "optimizer = tf.train.AdamOptimizer().minimize(cost)\n",
    "\n",
    "# Accuracy\n",
    "correct_pred = tf.equal(tf.argmax(logits, 1), tf.argmax(y, 1))\n",
    "accuracy = tf.reduce_mean(tf.cast(correct_pred, tf.float32), name='accuracy')\n",
    "\n",
    "tests.test_conv_net(conv_net)"
   ]
  },
  {
   "cell_type": "markdown",
   "metadata": {
    "deletable": true,
    "editable": true
   },
   "source": [
    "## Train the Neural Network\n",
    "### Single Optimization\n",
    "Implement the function `train_neural_network` to do a single optimization.  The optimization should use `optimizer` to optimize in `session` with a `feed_dict` of the following:\n",
    "* `x` for image input\n",
    "* `y` for labels\n",
    "* `keep_prob` for keep probability for dropout\n",
    "\n",
    "This function will be called for each batch, so `tf.global_variables_initializer()` has already been called.\n",
    "\n",
    "Note: Nothing needs to be returned. This function is only optimizing the neural network."
   ]
  },
  {
   "cell_type": "code",
   "execution_count": 62,
   "metadata": {
    "collapsed": false,
    "deletable": true,
    "editable": true
   },
   "outputs": [
    {
     "name": "stdout",
     "output_type": "stream",
     "text": [
      "Tests Passed\n"
     ]
    }
   ],
   "source": [
    "def train_neural_network(session, optimizer, keep_probability, feature_batch, label_batch):\n",
    "    \"\"\"\n",
    "    Optimize the session on a batch of images and labels\n",
    "    : session: Current TensorFlow session\n",
    "    : optimizer: TensorFlow optimizer function\n",
    "    : keep_probability: keep probability\n",
    "    : feature_batch: Batch of Numpy image data\n",
    "    : label_batch: Batch of Numpy label data\n",
    "    \"\"\"\n",
    "    session.run(optimizer, feed_dict={\n",
    "        x: feature_batch,\n",
    "        y: label_batch,\n",
    "        keep_prob: keep_probability})\n",
    "    \n",
    "    pass\n",
    "\n",
    "\n",
    "\"\"\"\n",
    "DON'T MODIFY ANYTHING IN THIS CELL THAT IS BELOW THIS LINE\n",
    "\"\"\"\n",
    "tests.test_train_nn(train_neural_network)"
   ]
  },
  {
   "cell_type": "markdown",
   "metadata": {
    "deletable": true,
    "editable": true
   },
   "source": [
    "### Show Stats\n",
    "Implement the function `print_stats` to print loss and validation accuracy.  Use the global variables `valid_features` and `valid_labels` to calculate validation accuracy.  Use a keep probability of `1.0` to calculate the loss and validation accuracy."
   ]
  },
  {
   "cell_type": "code",
   "execution_count": 63,
   "metadata": {
    "collapsed": false,
    "deletable": true,
    "editable": true
   },
   "outputs": [],
   "source": [
    "def print_stats(session, feature_batch, label_batch, cost, accuracy):\n",
    "    \"\"\"\n",
    "    Print information about loss and validation accuracy\n",
    "    : session: Current TensorFlow session\n",
    "    : feature_batch: Batch of Numpy image data\n",
    "    : label_batch: Batch of Numpy label data\n",
    "    : cost: TensorFlow cost function\n",
    "    : accuracy: TensorFlow accuracy function\n",
    "    \"\"\"\n",
    "    loss = session.run(cost, feed_dict={\n",
    "        x: feature_batch,\n",
    "        y: label_batch,\n",
    "        keep_prob: 1.})\n",
    "    \n",
    "    valid_acc = session.run(accuracy, feed_dict={\n",
    "        x: valid_features[:256],\n",
    "        y: valid_labels[:256],\n",
    "        keep_prob: 1.})\n",
    "\n",
    "    print('Loss: {:>10.4f} Validation Accuracy: {:.6f}'.format(\n",
    "        loss,\n",
    "        valid_acc))\n",
    "    \n",
    "    pass"
   ]
  },
  {
   "cell_type": "markdown",
   "metadata": {
    "deletable": true,
    "editable": true
   },
   "source": [
    "### Hyperparameters\n",
    "Tune the following parameters:\n",
    "* Set `epochs` to the number of iterations until the network stops learning or start overfitting\n",
    "* Set `batch_size` to the highest number that your machine has memory for.  Most people set them to common sizes of memory:\n",
    " * 64\n",
    " * 128\n",
    " * 256\n",
    " * ...\n",
    "* Set `keep_probability` to the probability of keeping a node using dropout"
   ]
  },
  {
   "cell_type": "code",
   "execution_count": 64,
   "metadata": {
    "collapsed": true,
    "deletable": true,
    "editable": true
   },
   "outputs": [],
   "source": [
    "epochs = 64\n",
    "batch_size = 256\n",
    "keep_probability = .75"
   ]
  },
  {
   "cell_type": "markdown",
   "metadata": {
    "deletable": true,
    "editable": true
   },
   "source": [
    "### Train on a Single CIFAR-10 Batch\n",
    "Instead of training the neural network on all the CIFAR-10 batches of data, let's use a single batch. This should save time while you iterate on the model to get a better accuracy.  Once the final validation accuracy is 50% or greater, run the model on all the data in the next section."
   ]
  },
  {
   "cell_type": "code",
   "execution_count": 65,
   "metadata": {
    "collapsed": false,
    "deletable": true,
    "editable": true
   },
   "outputs": [
    {
     "name": "stdout",
     "output_type": "stream",
     "text": [
      "Checking the Training on a Single Batch...\n",
      "Epoch  1, CIFAR-10 Batch 1:  Loss:     7.0686 Validation Accuracy: 0.218750\n",
      "Epoch  2, CIFAR-10 Batch 1:  Loss:     6.1359 Validation Accuracy: 0.246094\n",
      "Epoch  3, CIFAR-10 Batch 1:  Loss:     4.5727 Validation Accuracy: 0.246094\n",
      "Epoch  4, CIFAR-10 Batch 1:  Loss:     4.2053 Validation Accuracy: 0.281250\n",
      "Epoch  5, CIFAR-10 Batch 1:  Loss:     3.1448 Validation Accuracy: 0.292969\n",
      "Epoch  6, CIFAR-10 Batch 1:  Loss:     4.2815 Validation Accuracy: 0.265625\n",
      "Epoch  7, CIFAR-10 Batch 1:  Loss:     2.7629 Validation Accuracy: 0.300781\n",
      "Epoch  8, CIFAR-10 Batch 1:  Loss:     2.1259 Validation Accuracy: 0.347656\n",
      "Epoch  9, CIFAR-10 Batch 1:  Loss:     2.2670 Validation Accuracy: 0.398438\n",
      "Epoch 10, CIFAR-10 Batch 1:  Loss:     2.4691 Validation Accuracy: 0.316406\n",
      "Epoch 11, CIFAR-10 Batch 1:  Loss:     1.8625 Validation Accuracy: 0.343750\n",
      "Epoch 12, CIFAR-10 Batch 1:  Loss:     2.3103 Validation Accuracy: 0.378906\n",
      "Epoch 13, CIFAR-10 Batch 1:  Loss:     1.7391 Validation Accuracy: 0.390625\n",
      "Epoch 14, CIFAR-10 Batch 1:  Loss:     1.7065 Validation Accuracy: 0.406250\n",
      "Epoch 15, CIFAR-10 Batch 1:  Loss:     1.2399 Validation Accuracy: 0.359375\n",
      "Epoch 16, CIFAR-10 Batch 1:  Loss:     1.3893 Validation Accuracy: 0.406250\n",
      "Epoch 17, CIFAR-10 Batch 1:  Loss:     1.2228 Validation Accuracy: 0.414062\n",
      "Epoch 18, CIFAR-10 Batch 1:  Loss:     1.3237 Validation Accuracy: 0.421875\n",
      "Epoch 19, CIFAR-10 Batch 1:  Loss:     1.2258 Validation Accuracy: 0.402344\n",
      "Epoch 20, CIFAR-10 Batch 1:  Loss:     1.1106 Validation Accuracy: 0.375000\n",
      "Epoch 21, CIFAR-10 Batch 1:  Loss:     0.8638 Validation Accuracy: 0.421875\n",
      "Epoch 22, CIFAR-10 Batch 1:  Loss:     0.8364 Validation Accuracy: 0.406250\n",
      "Epoch 23, CIFAR-10 Batch 1:  Loss:     1.0751 Validation Accuracy: 0.421875\n",
      "Epoch 24, CIFAR-10 Batch 1:  Loss:     1.0928 Validation Accuracy: 0.441406\n",
      "Epoch 25, CIFAR-10 Batch 1:  Loss:     0.7535 Validation Accuracy: 0.429688\n",
      "Epoch 26, CIFAR-10 Batch 1:  Loss:     0.7192 Validation Accuracy: 0.429688\n",
      "Epoch 27, CIFAR-10 Batch 1:  Loss:     0.8652 Validation Accuracy: 0.484375\n",
      "Epoch 28, CIFAR-10 Batch 1:  Loss:     0.6385 Validation Accuracy: 0.410156\n",
      "Epoch 29, CIFAR-10 Batch 1:  Loss:     0.8509 Validation Accuracy: 0.449219\n",
      "Epoch 30, CIFAR-10 Batch 1:  Loss:     0.8030 Validation Accuracy: 0.406250\n",
      "Epoch 31, CIFAR-10 Batch 1:  Loss:     0.6633 Validation Accuracy: 0.417969\n",
      "Epoch 32, CIFAR-10 Batch 1:  Loss:     0.6998 Validation Accuracy: 0.433594\n",
      "Epoch 33, CIFAR-10 Batch 1:  Loss:     0.6916 Validation Accuracy: 0.468750\n",
      "Epoch 34, CIFAR-10 Batch 1:  Loss:     0.6595 Validation Accuracy: 0.472656\n",
      "Epoch 35, CIFAR-10 Batch 1:  Loss:     0.4252 Validation Accuracy: 0.441406\n",
      "Epoch 36, CIFAR-10 Batch 1:  Loss:     0.5833 Validation Accuracy: 0.480469\n",
      "Epoch 37, CIFAR-10 Batch 1:  Loss:     0.6353 Validation Accuracy: 0.390625\n",
      "Epoch 38, CIFAR-10 Batch 1:  Loss:     0.4571 Validation Accuracy: 0.445312\n",
      "Epoch 39, CIFAR-10 Batch 1:  Loss:     0.5206 Validation Accuracy: 0.445312\n",
      "Epoch 40, CIFAR-10 Batch 1:  Loss:     0.5155 Validation Accuracy: 0.406250\n",
      "Epoch 41, CIFAR-10 Batch 1:  Loss:     0.4038 Validation Accuracy: 0.468750\n",
      "Epoch 42, CIFAR-10 Batch 1:  Loss:     0.5427 Validation Accuracy: 0.449219\n",
      "Epoch 43, CIFAR-10 Batch 1:  Loss:     0.3551 Validation Accuracy: 0.464844\n",
      "Epoch 44, CIFAR-10 Batch 1:  Loss:     0.7743 Validation Accuracy: 0.480469\n",
      "Epoch 45, CIFAR-10 Batch 1:  Loss:     0.4720 Validation Accuracy: 0.464844\n",
      "Epoch 46, CIFAR-10 Batch 1:  Loss:     0.3801 Validation Accuracy: 0.515625\n",
      "Epoch 47, CIFAR-10 Batch 1:  Loss:     0.4072 Validation Accuracy: 0.468750\n",
      "Epoch 48, CIFAR-10 Batch 1:  Loss:     0.4449 Validation Accuracy: 0.503906\n",
      "Epoch 49, CIFAR-10 Batch 1:  Loss:     0.4035 Validation Accuracy: 0.484375\n",
      "Epoch 50, CIFAR-10 Batch 1:  Loss:     0.5407 Validation Accuracy: 0.429688\n",
      "Epoch 51, CIFAR-10 Batch 1:  Loss:     0.4132 Validation Accuracy: 0.472656\n",
      "Epoch 52, CIFAR-10 Batch 1:  Loss:     0.3204 Validation Accuracy: 0.496094\n",
      "Epoch 53, CIFAR-10 Batch 1:  Loss:     0.3284 Validation Accuracy: 0.515625\n",
      "Epoch 54, CIFAR-10 Batch 1:  Loss:     0.3562 Validation Accuracy: 0.441406\n",
      "Epoch 55, CIFAR-10 Batch 1:  Loss:     0.4506 Validation Accuracy: 0.515625\n",
      "Epoch 56, CIFAR-10 Batch 1:  Loss:     0.4721 Validation Accuracy: 0.500000\n",
      "Epoch 57, CIFAR-10 Batch 1:  Loss:     0.6285 Validation Accuracy: 0.453125\n",
      "Epoch 58, CIFAR-10 Batch 1:  Loss:     0.3560 Validation Accuracy: 0.519531\n",
      "Epoch 59, CIFAR-10 Batch 1:  Loss:     0.2578 Validation Accuracy: 0.488281\n",
      "Epoch 60, CIFAR-10 Batch 1:  Loss:     0.2356 Validation Accuracy: 0.449219\n",
      "Epoch 61, CIFAR-10 Batch 1:  Loss:     0.3412 Validation Accuracy: 0.519531\n",
      "Epoch 62, CIFAR-10 Batch 1:  Loss:     0.3032 Validation Accuracy: 0.492188\n",
      "Epoch 63, CIFAR-10 Batch 1:  Loss:     0.2758 Validation Accuracy: 0.503906\n",
      "Epoch 64, CIFAR-10 Batch 1:  Loss:     0.3556 Validation Accuracy: 0.515625\n"
     ]
    }
   ],
   "source": [
    "\"\"\"\n",
    "DON'T MODIFY ANYTHING IN THIS CELL\n",
    "\"\"\"\n",
    "print('Checking the Training on a Single Batch...')\n",
    "with tf.Session() as sess:\n",
    "    # Initializing the variables\n",
    "    sess.run(tf.global_variables_initializer())\n",
    "    \n",
    "    # Training cycle\n",
    "    for epoch in range(epochs):\n",
    "        batch_i = 1\n",
    "        for batch_features, batch_labels in helper.load_preprocess_training_batch(batch_i, batch_size):\n",
    "            train_neural_network(sess, optimizer, keep_probability, batch_features, batch_labels)\n",
    "        print('Epoch {:>2}, CIFAR-10 Batch {}:  '.format(epoch + 1, batch_i), end='')\n",
    "        print_stats(sess, batch_features, batch_labels, cost, accuracy)"
   ]
  },
  {
   "cell_type": "markdown",
   "metadata": {
    "deletable": true,
    "editable": true
   },
   "source": [
    "### Fully Train the Model\n",
    "Now that you got a good accuracy with a single CIFAR-10 batch, try it with all five batches."
   ]
  },
  {
   "cell_type": "code",
   "execution_count": 66,
   "metadata": {
    "collapsed": false,
    "deletable": true,
    "editable": true
   },
   "outputs": [
    {
     "name": "stdout",
     "output_type": "stream",
     "text": [
      "Training...\n",
      "Epoch  1, CIFAR-10 Batch 1:  Loss:     9.9826 Validation Accuracy: 0.167969\n",
      "Epoch  1, CIFAR-10 Batch 2:  Loss:     6.0712 Validation Accuracy: 0.246094\n",
      "Epoch  1, CIFAR-10 Batch 3:  Loss:     3.8067 Validation Accuracy: 0.296875\n",
      "Epoch  1, CIFAR-10 Batch 4:  Loss:     4.0461 Validation Accuracy: 0.308594\n",
      "Epoch  1, CIFAR-10 Batch 5:  Loss:     3.0972 Validation Accuracy: 0.347656\n",
      "Epoch  2, CIFAR-10 Batch 1:  Loss:     4.5543 Validation Accuracy: 0.332031\n",
      "Epoch  2, CIFAR-10 Batch 2:  Loss:     3.2899 Validation Accuracy: 0.328125\n",
      "Epoch  2, CIFAR-10 Batch 3:  Loss:     2.4259 Validation Accuracy: 0.363281\n",
      "Epoch  2, CIFAR-10 Batch 4:  Loss:     2.5728 Validation Accuracy: 0.382812\n",
      "Epoch  2, CIFAR-10 Batch 5:  Loss:     2.5860 Validation Accuracy: 0.398438\n",
      "Epoch  3, CIFAR-10 Batch 1:  Loss:     3.1851 Validation Accuracy: 0.398438\n",
      "Epoch  3, CIFAR-10 Batch 2:  Loss:     3.8943 Validation Accuracy: 0.347656\n",
      "Epoch  3, CIFAR-10 Batch 3:  Loss:     2.2866 Validation Accuracy: 0.371094\n",
      "Epoch  3, CIFAR-10 Batch 4:  Loss:     1.8029 Validation Accuracy: 0.386719\n",
      "Epoch  3, CIFAR-10 Batch 5:  Loss:     2.3888 Validation Accuracy: 0.398438\n",
      "Epoch  4, CIFAR-10 Batch 1:  Loss:     2.8138 Validation Accuracy: 0.382812\n",
      "Epoch  4, CIFAR-10 Batch 2:  Loss:     2.5854 Validation Accuracy: 0.390625\n",
      "Epoch  4, CIFAR-10 Batch 3:  Loss:     1.6592 Validation Accuracy: 0.390625\n",
      "Epoch  4, CIFAR-10 Batch 4:  Loss:     1.5416 Validation Accuracy: 0.453125\n",
      "Epoch  4, CIFAR-10 Batch 5:  Loss:     2.1223 Validation Accuracy: 0.437500\n",
      "Epoch  5, CIFAR-10 Batch 1:  Loss:     2.1412 Validation Accuracy: 0.371094\n",
      "Epoch  5, CIFAR-10 Batch 2:  Loss:     1.4963 Validation Accuracy: 0.417969\n",
      "Epoch  5, CIFAR-10 Batch 3:  Loss:     1.8235 Validation Accuracy: 0.347656\n",
      "Epoch  5, CIFAR-10 Batch 4:  Loss:     1.3636 Validation Accuracy: 0.457031\n",
      "Epoch  5, CIFAR-10 Batch 5:  Loss:     1.8823 Validation Accuracy: 0.398438\n",
      "Epoch  6, CIFAR-10 Batch 1:  Loss:     2.2182 Validation Accuracy: 0.429688\n",
      "Epoch  6, CIFAR-10 Batch 2:  Loss:     1.3811 Validation Accuracy: 0.398438\n",
      "Epoch  6, CIFAR-10 Batch 3:  Loss:     1.2487 Validation Accuracy: 0.421875\n",
      "Epoch  6, CIFAR-10 Batch 4:  Loss:     1.3835 Validation Accuracy: 0.472656\n",
      "Epoch  6, CIFAR-10 Batch 5:  Loss:     2.0066 Validation Accuracy: 0.476562\n",
      "Epoch  7, CIFAR-10 Batch 1:  Loss:     1.6499 Validation Accuracy: 0.476562\n",
      "Epoch  7, CIFAR-10 Batch 2:  Loss:     1.2258 Validation Accuracy: 0.449219\n",
      "Epoch  7, CIFAR-10 Batch 3:  Loss:     1.2463 Validation Accuracy: 0.445312\n",
      "Epoch  7, CIFAR-10 Batch 4:  Loss:     1.2640 Validation Accuracy: 0.484375\n",
      "Epoch  7, CIFAR-10 Batch 5:  Loss:     1.5308 Validation Accuracy: 0.468750\n",
      "Epoch  8, CIFAR-10 Batch 1:  Loss:     1.5104 Validation Accuracy: 0.468750\n",
      "Epoch  8, CIFAR-10 Batch 2:  Loss:     1.3030 Validation Accuracy: 0.445312\n",
      "Epoch  8, CIFAR-10 Batch 3:  Loss:     1.0729 Validation Accuracy: 0.441406\n",
      "Epoch  8, CIFAR-10 Batch 4:  Loss:     0.9741 Validation Accuracy: 0.480469\n",
      "Epoch  8, CIFAR-10 Batch 5:  Loss:     1.0830 Validation Accuracy: 0.472656\n",
      "Epoch  9, CIFAR-10 Batch 1:  Loss:     1.3249 Validation Accuracy: 0.484375\n",
      "Epoch  9, CIFAR-10 Batch 2:  Loss:     0.9278 Validation Accuracy: 0.492188\n",
      "Epoch  9, CIFAR-10 Batch 3:  Loss:     1.0104 Validation Accuracy: 0.500000\n",
      "Epoch  9, CIFAR-10 Batch 4:  Loss:     0.9235 Validation Accuracy: 0.539062\n",
      "Epoch  9, CIFAR-10 Batch 5:  Loss:     1.0992 Validation Accuracy: 0.500000\n",
      "Epoch 10, CIFAR-10 Batch 1:  Loss:     1.4980 Validation Accuracy: 0.507812\n",
      "Epoch 10, CIFAR-10 Batch 2:  Loss:     0.8521 Validation Accuracy: 0.468750\n",
      "Epoch 10, CIFAR-10 Batch 3:  Loss:     0.9261 Validation Accuracy: 0.445312\n",
      "Epoch 10, CIFAR-10 Batch 4:  Loss:     0.9494 Validation Accuracy: 0.488281\n",
      "Epoch 10, CIFAR-10 Batch 5:  Loss:     1.0521 Validation Accuracy: 0.496094\n",
      "Epoch 11, CIFAR-10 Batch 1:  Loss:     1.2169 Validation Accuracy: 0.503906\n",
      "Epoch 11, CIFAR-10 Batch 2:  Loss:     0.9395 Validation Accuracy: 0.488281\n",
      "Epoch 11, CIFAR-10 Batch 3:  Loss:     0.9437 Validation Accuracy: 0.414062\n",
      "Epoch 11, CIFAR-10 Batch 4:  Loss:     0.8025 Validation Accuracy: 0.539062\n",
      "Epoch 11, CIFAR-10 Batch 5:  Loss:     0.9197 Validation Accuracy: 0.480469\n",
      "Epoch 12, CIFAR-10 Batch 1:  Loss:     1.3805 Validation Accuracy: 0.488281\n",
      "Epoch 12, CIFAR-10 Batch 2:  Loss:     1.0198 Validation Accuracy: 0.515625\n",
      "Epoch 12, CIFAR-10 Batch 3:  Loss:     0.9129 Validation Accuracy: 0.503906\n",
      "Epoch 12, CIFAR-10 Batch 4:  Loss:     0.8366 Validation Accuracy: 0.515625\n",
      "Epoch 12, CIFAR-10 Batch 5:  Loss:     1.0885 Validation Accuracy: 0.484375\n",
      "Epoch 13, CIFAR-10 Batch 1:  Loss:     1.2804 Validation Accuracy: 0.402344\n",
      "Epoch 13, CIFAR-10 Batch 2:  Loss:     0.6725 Validation Accuracy: 0.488281\n",
      "Epoch 13, CIFAR-10 Batch 3:  Loss:     0.8855 Validation Accuracy: 0.492188\n",
      "Epoch 13, CIFAR-10 Batch 4:  Loss:     0.9199 Validation Accuracy: 0.472656\n",
      "Epoch 13, CIFAR-10 Batch 5:  Loss:     0.8630 Validation Accuracy: 0.562500\n",
      "Epoch 14, CIFAR-10 Batch 1:  Loss:     1.1001 Validation Accuracy: 0.527344\n",
      "Epoch 14, CIFAR-10 Batch 2:  Loss:     0.6776 Validation Accuracy: 0.542969\n",
      "Epoch 14, CIFAR-10 Batch 3:  Loss:     0.6982 Validation Accuracy: 0.535156\n",
      "Epoch 14, CIFAR-10 Batch 4:  Loss:     0.7136 Validation Accuracy: 0.539062\n",
      "Epoch 14, CIFAR-10 Batch 5:  Loss:     0.9168 Validation Accuracy: 0.566406\n",
      "Epoch 15, CIFAR-10 Batch 1:  Loss:     1.0892 Validation Accuracy: 0.539062\n",
      "Epoch 15, CIFAR-10 Batch 2:  Loss:     0.6668 Validation Accuracy: 0.523438\n",
      "Epoch 15, CIFAR-10 Batch 3:  Loss:     0.8532 Validation Accuracy: 0.511719\n",
      "Epoch 15, CIFAR-10 Batch 4:  Loss:     0.7956 Validation Accuracy: 0.472656\n",
      "Epoch 15, CIFAR-10 Batch 5:  Loss:     0.8415 Validation Accuracy: 0.500000\n",
      "Epoch 16, CIFAR-10 Batch 1:  Loss:     0.9950 Validation Accuracy: 0.519531\n",
      "Epoch 16, CIFAR-10 Batch 2:  Loss:     0.7284 Validation Accuracy: 0.472656\n",
      "Epoch 16, CIFAR-10 Batch 3:  Loss:     0.6265 Validation Accuracy: 0.554688\n",
      "Epoch 16, CIFAR-10 Batch 4:  Loss:     0.7067 Validation Accuracy: 0.574219\n",
      "Epoch 16, CIFAR-10 Batch 5:  Loss:     0.9633 Validation Accuracy: 0.531250\n",
      "Epoch 17, CIFAR-10 Batch 1:  Loss:     0.9659 Validation Accuracy: 0.507812\n",
      "Epoch 17, CIFAR-10 Batch 2:  Loss:     0.6825 Validation Accuracy: 0.523438\n",
      "Epoch 17, CIFAR-10 Batch 3:  Loss:     0.5773 Validation Accuracy: 0.550781\n",
      "Epoch 17, CIFAR-10 Batch 4:  Loss:     0.7560 Validation Accuracy: 0.562500\n",
      "Epoch 17, CIFAR-10 Batch 5:  Loss:     0.7315 Validation Accuracy: 0.562500\n",
      "Epoch 18, CIFAR-10 Batch 1:  Loss:     1.0384 Validation Accuracy: 0.546875\n",
      "Epoch 18, CIFAR-10 Batch 2:  Loss:     0.5359 Validation Accuracy: 0.578125\n",
      "Epoch 18, CIFAR-10 Batch 3:  Loss:     0.5770 Validation Accuracy: 0.574219\n",
      "Epoch 18, CIFAR-10 Batch 4:  Loss:     0.6893 Validation Accuracy: 0.515625\n",
      "Epoch 18, CIFAR-10 Batch 5:  Loss:     0.6801 Validation Accuracy: 0.527344\n",
      "Epoch 19, CIFAR-10 Batch 1:  Loss:     0.8993 Validation Accuracy: 0.554688\n",
      "Epoch 19, CIFAR-10 Batch 2:  Loss:     0.5127 Validation Accuracy: 0.601562\n",
      "Epoch 19, CIFAR-10 Batch 3:  Loss:     0.5476 Validation Accuracy: 0.589844\n",
      "Epoch 19, CIFAR-10 Batch 4:  Loss:     0.6256 Validation Accuracy: 0.585938\n",
      "Epoch 19, CIFAR-10 Batch 5:  Loss:     0.6594 Validation Accuracy: 0.558594\n",
      "Epoch 20, CIFAR-10 Batch 1:  Loss:     0.9540 Validation Accuracy: 0.574219\n",
      "Epoch 20, CIFAR-10 Batch 2:  Loss:     0.5278 Validation Accuracy: 0.585938\n",
      "Epoch 20, CIFAR-10 Batch 3:  Loss:     0.6928 Validation Accuracy: 0.460938\n",
      "Epoch 20, CIFAR-10 Batch 4:  Loss:     0.6135 Validation Accuracy: 0.589844\n",
      "Epoch 20, CIFAR-10 Batch 5:  Loss:     0.5755 Validation Accuracy: 0.601562\n",
      "Epoch 21, CIFAR-10 Batch 1:  Loss:     0.8666 Validation Accuracy: 0.523438\n",
      "Epoch 21, CIFAR-10 Batch 2:  Loss:     0.5608 Validation Accuracy: 0.550781\n",
      "Epoch 21, CIFAR-10 Batch 3:  Loss:     0.5249 Validation Accuracy: 0.550781\n",
      "Epoch 21, CIFAR-10 Batch 4:  Loss:     0.4679 Validation Accuracy: 0.585938\n",
      "Epoch 21, CIFAR-10 Batch 5:  Loss:     0.6126 Validation Accuracy: 0.582031\n",
      "Epoch 22, CIFAR-10 Batch 1:  Loss:     1.0159 Validation Accuracy: 0.488281\n",
      "Epoch 22, CIFAR-10 Batch 2:  Loss:     0.5212 Validation Accuracy: 0.554688\n",
      "Epoch 22, CIFAR-10 Batch 3:  Loss:     0.5089 Validation Accuracy: 0.585938\n",
      "Epoch 22, CIFAR-10 Batch 4:  Loss:     0.6168 Validation Accuracy: 0.535156\n",
      "Epoch 22, CIFAR-10 Batch 5:  Loss:     0.5315 Validation Accuracy: 0.589844\n",
      "Epoch 23, CIFAR-10 Batch 1:  Loss:     0.8569 Validation Accuracy: 0.468750\n",
      "Epoch 23, CIFAR-10 Batch 2:  Loss:     0.5068 Validation Accuracy: 0.582031\n",
      "Epoch 23, CIFAR-10 Batch 3:  Loss:     0.4988 Validation Accuracy: 0.582031\n",
      "Epoch 23, CIFAR-10 Batch 4:  Loss:     0.5380 Validation Accuracy: 0.562500\n",
      "Epoch 23, CIFAR-10 Batch 5:  Loss:     0.5664 Validation Accuracy: 0.601562\n",
      "Epoch 24, CIFAR-10 Batch 1:  Loss:     0.7819 Validation Accuracy: 0.558594\n",
      "Epoch 24, CIFAR-10 Batch 2:  Loss:     0.5520 Validation Accuracy: 0.550781\n",
      "Epoch 24, CIFAR-10 Batch 3:  Loss:     0.5313 Validation Accuracy: 0.605469\n",
      "Epoch 24, CIFAR-10 Batch 4:  Loss:     0.5408 Validation Accuracy: 0.582031\n",
      "Epoch 24, CIFAR-10 Batch 5:  Loss:     0.5466 Validation Accuracy: 0.566406\n",
      "Epoch 25, CIFAR-10 Batch 1:  Loss:     0.7423 Validation Accuracy: 0.558594\n",
      "Epoch 25, CIFAR-10 Batch 2:  Loss:     0.4623 Validation Accuracy: 0.570312\n",
      "Epoch 25, CIFAR-10 Batch 3:  Loss:     0.5403 Validation Accuracy: 0.550781\n",
      "Epoch 25, CIFAR-10 Batch 4:  Loss:     0.4531 Validation Accuracy: 0.593750\n",
      "Epoch 25, CIFAR-10 Batch 5:  Loss:     0.5122 Validation Accuracy: 0.523438\n",
      "Epoch 26, CIFAR-10 Batch 1:  Loss:     0.7755 Validation Accuracy: 0.625000\n",
      "Epoch 26, CIFAR-10 Batch 2:  Loss:     0.4746 Validation Accuracy: 0.554688\n",
      "Epoch 26, CIFAR-10 Batch 3:  Loss:     0.4193 Validation Accuracy: 0.589844\n",
      "Epoch 26, CIFAR-10 Batch 4:  Loss:     0.5254 Validation Accuracy: 0.589844\n",
      "Epoch 26, CIFAR-10 Batch 5:  Loss:     0.5702 Validation Accuracy: 0.574219\n",
      "Epoch 27, CIFAR-10 Batch 1:  Loss:     0.7170 Validation Accuracy: 0.613281\n",
      "Epoch 27, CIFAR-10 Batch 2:  Loss:     0.4152 Validation Accuracy: 0.593750\n",
      "Epoch 27, CIFAR-10 Batch 3:  Loss:     0.4292 Validation Accuracy: 0.605469\n",
      "Epoch 27, CIFAR-10 Batch 4:  Loss:     0.5172 Validation Accuracy: 0.585938\n",
      "Epoch 27, CIFAR-10 Batch 5:  Loss:     0.5355 Validation Accuracy: 0.593750\n",
      "Epoch 28, CIFAR-10 Batch 1:  Loss:     0.6557 Validation Accuracy: 0.574219\n",
      "Epoch 28, CIFAR-10 Batch 2:  Loss:     0.4603 Validation Accuracy: 0.562500\n",
      "Epoch 28, CIFAR-10 Batch 3:  Loss:     0.4741 Validation Accuracy: 0.554688\n",
      "Epoch 28, CIFAR-10 Batch 4:  Loss:     0.4964 Validation Accuracy: 0.593750\n",
      "Epoch 28, CIFAR-10 Batch 5:  Loss:     0.5435 Validation Accuracy: 0.605469\n",
      "Epoch 29, CIFAR-10 Batch 1:  Loss:     0.7411 Validation Accuracy: 0.578125\n",
      "Epoch 29, CIFAR-10 Batch 2:  Loss:     0.5543 Validation Accuracy: 0.570312\n",
      "Epoch 29, CIFAR-10 Batch 3:  Loss:     0.4677 Validation Accuracy: 0.566406\n",
      "Epoch 29, CIFAR-10 Batch 4:  Loss:     0.5272 Validation Accuracy: 0.585938\n",
      "Epoch 29, CIFAR-10 Batch 5:  Loss:     0.4590 Validation Accuracy: 0.562500\n",
      "Epoch 30, CIFAR-10 Batch 1:  Loss:     0.6951 Validation Accuracy: 0.531250\n",
      "Epoch 30, CIFAR-10 Batch 2:  Loss:     0.4325 Validation Accuracy: 0.574219\n",
      "Epoch 30, CIFAR-10 Batch 3:  Loss:     0.4289 Validation Accuracy: 0.535156\n",
      "Epoch 30, CIFAR-10 Batch 4:  Loss:     0.4218 Validation Accuracy: 0.597656\n",
      "Epoch 30, CIFAR-10 Batch 5:  Loss:     0.4294 Validation Accuracy: 0.593750\n",
      "Epoch 31, CIFAR-10 Batch 1:  Loss:     0.6374 Validation Accuracy: 0.542969\n",
      "Epoch 31, CIFAR-10 Batch 2:  Loss:     0.4471 Validation Accuracy: 0.613281\n",
      "Epoch 31, CIFAR-10 Batch 3:  Loss:     0.4974 Validation Accuracy: 0.562500\n",
      "Epoch 31, CIFAR-10 Batch 4:  Loss:     0.4496 Validation Accuracy: 0.585938\n",
      "Epoch 31, CIFAR-10 Batch 5:  Loss:     0.4598 Validation Accuracy: 0.613281\n",
      "Epoch 32, CIFAR-10 Batch 1:  Loss:     0.6142 Validation Accuracy: 0.589844\n",
      "Epoch 32, CIFAR-10 Batch 2:  Loss:     0.4113 Validation Accuracy: 0.542969\n",
      "Epoch 32, CIFAR-10 Batch 3:  Loss:     0.4125 Validation Accuracy: 0.566406\n",
      "Epoch 32, CIFAR-10 Batch 4:  Loss:     0.4502 Validation Accuracy: 0.550781\n",
      "Epoch 32, CIFAR-10 Batch 5:  Loss:     0.4614 Validation Accuracy: 0.546875\n",
      "Epoch 33, CIFAR-10 Batch 1:  Loss:     0.5977 Validation Accuracy: 0.562500\n",
      "Epoch 33, CIFAR-10 Batch 2:  Loss:     0.4248 Validation Accuracy: 0.585938\n",
      "Epoch 33, CIFAR-10 Batch 3:  Loss:     0.3568 Validation Accuracy: 0.593750\n",
      "Epoch 33, CIFAR-10 Batch 4:  Loss:     0.5065 Validation Accuracy: 0.621094\n",
      "Epoch 33, CIFAR-10 Batch 5:  Loss:     0.4473 Validation Accuracy: 0.566406\n",
      "Epoch 34, CIFAR-10 Batch 1:  Loss:     0.5941 Validation Accuracy: 0.597656\n",
      "Epoch 34, CIFAR-10 Batch 2:  Loss:     0.3938 Validation Accuracy: 0.574219\n",
      "Epoch 34, CIFAR-10 Batch 3:  Loss:     0.3879 Validation Accuracy: 0.582031\n",
      "Epoch 34, CIFAR-10 Batch 4:  Loss:     0.4641 Validation Accuracy: 0.585938\n",
      "Epoch 34, CIFAR-10 Batch 5:  Loss:     0.4552 Validation Accuracy: 0.632812\n",
      "Epoch 35, CIFAR-10 Batch 1:  Loss:     0.5992 Validation Accuracy: 0.585938\n",
      "Epoch 35, CIFAR-10 Batch 2:  Loss:     0.4738 Validation Accuracy: 0.554688\n",
      "Epoch 35, CIFAR-10 Batch 3:  Loss:     0.3508 Validation Accuracy: 0.578125\n",
      "Epoch 35, CIFAR-10 Batch 4:  Loss:     0.4504 Validation Accuracy: 0.628906\n",
      "Epoch 35, CIFAR-10 Batch 5:  Loss:     0.3891 Validation Accuracy: 0.628906\n",
      "Epoch 36, CIFAR-10 Batch 1:  Loss:     0.6017 Validation Accuracy: 0.562500\n",
      "Epoch 36, CIFAR-10 Batch 2:  Loss:     0.4041 Validation Accuracy: 0.578125\n",
      "Epoch 36, CIFAR-10 Batch 3:  Loss:     0.3449 Validation Accuracy: 0.589844\n",
      "Epoch 36, CIFAR-10 Batch 4:  Loss:     0.4219 Validation Accuracy: 0.625000\n",
      "Epoch 36, CIFAR-10 Batch 5:  Loss:     0.4134 Validation Accuracy: 0.593750\n",
      "Epoch 37, CIFAR-10 Batch 1:  Loss:     0.5495 Validation Accuracy: 0.574219\n",
      "Epoch 37, CIFAR-10 Batch 2:  Loss:     0.3984 Validation Accuracy: 0.531250\n",
      "Epoch 37, CIFAR-10 Batch 3:  Loss:     0.3679 Validation Accuracy: 0.593750\n",
      "Epoch 37, CIFAR-10 Batch 4:  Loss:     0.3909 Validation Accuracy: 0.613281\n",
      "Epoch 37, CIFAR-10 Batch 5:  Loss:     0.5251 Validation Accuracy: 0.613281\n",
      "Epoch 38, CIFAR-10 Batch 1:  Loss:     0.7192 Validation Accuracy: 0.589844\n",
      "Epoch 38, CIFAR-10 Batch 2:  Loss:     0.3842 Validation Accuracy: 0.570312\n",
      "Epoch 38, CIFAR-10 Batch 3:  Loss:     0.3721 Validation Accuracy: 0.554688\n",
      "Epoch 38, CIFAR-10 Batch 4:  Loss:     0.3558 Validation Accuracy: 0.609375\n",
      "Epoch 38, CIFAR-10 Batch 5:  Loss:     0.4472 Validation Accuracy: 0.578125\n",
      "Epoch 39, CIFAR-10 Batch 1:  Loss:     0.6301 Validation Accuracy: 0.601562\n",
      "Epoch 39, CIFAR-10 Batch 2:  Loss:     0.4777 Validation Accuracy: 0.511719\n",
      "Epoch 39, CIFAR-10 Batch 3:  Loss:     0.4380 Validation Accuracy: 0.593750\n",
      "Epoch 39, CIFAR-10 Batch 4:  Loss:     0.3752 Validation Accuracy: 0.617188\n",
      "Epoch 39, CIFAR-10 Batch 5:  Loss:     0.4038 Validation Accuracy: 0.593750\n",
      "Epoch 40, CIFAR-10 Batch 1:  Loss:     0.6308 Validation Accuracy: 0.589844\n",
      "Epoch 40, CIFAR-10 Batch 2:  Loss:     0.4064 Validation Accuracy: 0.566406\n",
      "Epoch 40, CIFAR-10 Batch 3:  Loss:     0.3467 Validation Accuracy: 0.539062\n",
      "Epoch 40, CIFAR-10 Batch 4:  Loss:     0.3655 Validation Accuracy: 0.570312\n",
      "Epoch 40, CIFAR-10 Batch 5:  Loss:     0.3909 Validation Accuracy: 0.585938\n",
      "Epoch 41, CIFAR-10 Batch 1:  Loss:     0.6415 Validation Accuracy: 0.601562\n",
      "Epoch 41, CIFAR-10 Batch 2:  Loss:     0.4178 Validation Accuracy: 0.597656\n",
      "Epoch 41, CIFAR-10 Batch 3:  Loss:     0.3674 Validation Accuracy: 0.519531\n",
      "Epoch 41, CIFAR-10 Batch 4:  Loss:     0.3650 Validation Accuracy: 0.609375\n",
      "Epoch 41, CIFAR-10 Batch 5:  Loss:     0.3809 Validation Accuracy: 0.574219\n",
      "Epoch 42, CIFAR-10 Batch 1:  Loss:     0.5794 Validation Accuracy: 0.589844\n",
      "Epoch 42, CIFAR-10 Batch 2:  Loss:     0.3520 Validation Accuracy: 0.570312\n",
      "Epoch 42, CIFAR-10 Batch 3:  Loss:     0.3791 Validation Accuracy: 0.574219\n",
      "Epoch 42, CIFAR-10 Batch 4:  Loss:     0.3801 Validation Accuracy: 0.609375\n",
      "Epoch 42, CIFAR-10 Batch 5:  Loss:     0.3328 Validation Accuracy: 0.562500\n",
      "Epoch 43, CIFAR-10 Batch 1:  Loss:     0.6318 Validation Accuracy: 0.531250\n",
      "Epoch 43, CIFAR-10 Batch 2:  Loss:     0.3677 Validation Accuracy: 0.605469\n",
      "Epoch 43, CIFAR-10 Batch 3:  Loss:     0.3322 Validation Accuracy: 0.554688\n",
      "Epoch 43, CIFAR-10 Batch 4:  Loss:     0.3716 Validation Accuracy: 0.605469\n",
      "Epoch 43, CIFAR-10 Batch 5:  Loss:     0.4113 Validation Accuracy: 0.589844\n",
      "Epoch 44, CIFAR-10 Batch 1:  Loss:     0.5226 Validation Accuracy: 0.570312\n",
      "Epoch 44, CIFAR-10 Batch 2:  Loss:     0.3423 Validation Accuracy: 0.593750\n",
      "Epoch 44, CIFAR-10 Batch 3:  Loss:     0.4646 Validation Accuracy: 0.628906\n",
      "Epoch 44, CIFAR-10 Batch 4:  Loss:     0.3511 Validation Accuracy: 0.625000\n",
      "Epoch 44, CIFAR-10 Batch 5:  Loss:     0.3677 Validation Accuracy: 0.609375\n",
      "Epoch 45, CIFAR-10 Batch 1:  Loss:     0.5623 Validation Accuracy: 0.597656\n",
      "Epoch 45, CIFAR-10 Batch 2:  Loss:     0.3255 Validation Accuracy: 0.589844\n",
      "Epoch 45, CIFAR-10 Batch 3:  Loss:     0.3639 Validation Accuracy: 0.582031\n",
      "Epoch 45, CIFAR-10 Batch 4:  Loss:     0.3675 Validation Accuracy: 0.585938\n",
      "Epoch 45, CIFAR-10 Batch 5:  Loss:     0.4093 Validation Accuracy: 0.585938\n",
      "Epoch 46, CIFAR-10 Batch 1:  Loss:     0.5628 Validation Accuracy: 0.578125\n",
      "Epoch 46, CIFAR-10 Batch 2:  Loss:     0.3188 Validation Accuracy: 0.574219\n",
      "Epoch 46, CIFAR-10 Batch 3:  Loss:     0.3564 Validation Accuracy: 0.562500\n",
      "Epoch 46, CIFAR-10 Batch 4:  Loss:     0.3821 Validation Accuracy: 0.625000\n",
      "Epoch 46, CIFAR-10 Batch 5:  Loss:     0.3489 Validation Accuracy: 0.597656\n",
      "Epoch 47, CIFAR-10 Batch 1:  Loss:     0.4973 Validation Accuracy: 0.582031\n",
      "Epoch 47, CIFAR-10 Batch 2:  Loss:     0.3549 Validation Accuracy: 0.578125\n",
      "Epoch 47, CIFAR-10 Batch 3:  Loss:     0.3142 Validation Accuracy: 0.609375\n",
      "Epoch 47, CIFAR-10 Batch 4:  Loss:     0.4140 Validation Accuracy: 0.566406\n",
      "Epoch 47, CIFAR-10 Batch 5:  Loss:     0.5367 Validation Accuracy: 0.582031\n",
      "Epoch 48, CIFAR-10 Batch 1:  Loss:     0.5477 Validation Accuracy: 0.570312\n",
      "Epoch 48, CIFAR-10 Batch 2:  Loss:     0.3090 Validation Accuracy: 0.585938\n",
      "Epoch 48, CIFAR-10 Batch 3:  Loss:     0.3259 Validation Accuracy: 0.574219\n",
      "Epoch 48, CIFAR-10 Batch 4:  Loss:     0.3986 Validation Accuracy: 0.593750\n",
      "Epoch 48, CIFAR-10 Batch 5:  Loss:     0.4432 Validation Accuracy: 0.535156\n",
      "Epoch 49, CIFAR-10 Batch 1:  Loss:     0.4875 Validation Accuracy: 0.546875\n",
      "Epoch 49, CIFAR-10 Batch 2:  Loss:     0.3628 Validation Accuracy: 0.582031\n",
      "Epoch 49, CIFAR-10 Batch 3:  Loss:     0.4237 Validation Accuracy: 0.531250\n",
      "Epoch 49, CIFAR-10 Batch 4:  Loss:     0.4044 Validation Accuracy: 0.601562\n",
      "Epoch 49, CIFAR-10 Batch 5:  Loss:     0.3178 Validation Accuracy: 0.628906\n",
      "Epoch 50, CIFAR-10 Batch 1:  Loss:     0.5236 Validation Accuracy: 0.597656\n",
      "Epoch 50, CIFAR-10 Batch 2:  Loss:     0.3959 Validation Accuracy: 0.550781\n",
      "Epoch 50, CIFAR-10 Batch 3:  Loss:     0.3166 Validation Accuracy: 0.578125\n",
      "Epoch 50, CIFAR-10 Batch 4:  Loss:     0.3400 Validation Accuracy: 0.570312\n",
      "Epoch 50, CIFAR-10 Batch 5:  Loss:     0.3706 Validation Accuracy: 0.582031\n",
      "Epoch 51, CIFAR-10 Batch 1:  Loss:     0.4516 Validation Accuracy: 0.574219\n",
      "Epoch 51, CIFAR-10 Batch 2:  Loss:     0.3032 Validation Accuracy: 0.578125\n",
      "Epoch 51, CIFAR-10 Batch 3:  Loss:     0.3141 Validation Accuracy: 0.593750\n",
      "Epoch 51, CIFAR-10 Batch 4:  Loss:     0.3270 Validation Accuracy: 0.597656\n",
      "Epoch 51, CIFAR-10 Batch 5:  Loss:     0.4465 Validation Accuracy: 0.570312\n",
      "Epoch 52, CIFAR-10 Batch 1:  Loss:     0.4694 Validation Accuracy: 0.546875\n",
      "Epoch 52, CIFAR-10 Batch 2:  Loss:     0.3206 Validation Accuracy: 0.554688\n",
      "Epoch 52, CIFAR-10 Batch 3:  Loss:     0.2928 Validation Accuracy: 0.566406\n",
      "Epoch 52, CIFAR-10 Batch 4:  Loss:     0.3273 Validation Accuracy: 0.585938\n",
      "Epoch 52, CIFAR-10 Batch 5:  Loss:     0.3404 Validation Accuracy: 0.601562\n",
      "Epoch 53, CIFAR-10 Batch 1:  Loss:     0.4844 Validation Accuracy: 0.554688\n",
      "Epoch 53, CIFAR-10 Batch 2:  Loss:     0.3055 Validation Accuracy: 0.593750\n",
      "Epoch 53, CIFAR-10 Batch 3:  Loss:     0.3236 Validation Accuracy: 0.550781\n",
      "Epoch 53, CIFAR-10 Batch 4:  Loss:     0.3569 Validation Accuracy: 0.613281\n",
      "Epoch 53, CIFAR-10 Batch 5:  Loss:     0.3067 Validation Accuracy: 0.632812\n",
      "Epoch 54, CIFAR-10 Batch 1:  Loss:     0.5296 Validation Accuracy: 0.535156\n",
      "Epoch 54, CIFAR-10 Batch 2:  Loss:     0.3535 Validation Accuracy: 0.550781\n",
      "Epoch 54, CIFAR-10 Batch 3:  Loss:     0.2860 Validation Accuracy: 0.562500\n",
      "Epoch 54, CIFAR-10 Batch 4:  Loss:     0.3605 Validation Accuracy: 0.617188\n",
      "Epoch 54, CIFAR-10 Batch 5:  Loss:     0.3675 Validation Accuracy: 0.597656\n",
      "Epoch 55, CIFAR-10 Batch 1:  Loss:     0.4457 Validation Accuracy: 0.578125\n",
      "Epoch 55, CIFAR-10 Batch 2:  Loss:     0.3944 Validation Accuracy: 0.574219\n",
      "Epoch 55, CIFAR-10 Batch 3:  Loss:     0.3167 Validation Accuracy: 0.542969\n",
      "Epoch 55, CIFAR-10 Batch 4:  Loss:     0.3165 Validation Accuracy: 0.609375\n",
      "Epoch 55, CIFAR-10 Batch 5:  Loss:     0.3236 Validation Accuracy: 0.578125\n",
      "Epoch 56, CIFAR-10 Batch 1:  Loss:     0.4883 Validation Accuracy: 0.625000\n",
      "Epoch 56, CIFAR-10 Batch 2:  Loss:     0.2988 Validation Accuracy: 0.574219\n",
      "Epoch 56, CIFAR-10 Batch 3:  Loss:     0.3205 Validation Accuracy: 0.597656\n",
      "Epoch 56, CIFAR-10 Batch 4:  Loss:     0.3186 Validation Accuracy: 0.617188\n",
      "Epoch 56, CIFAR-10 Batch 5:  Loss:     0.2964 Validation Accuracy: 0.570312\n",
      "Epoch 57, CIFAR-10 Batch 1:  Loss:     0.4722 Validation Accuracy: 0.566406\n",
      "Epoch 57, CIFAR-10 Batch 2:  Loss:     0.2633 Validation Accuracy: 0.593750\n",
      "Epoch 57, CIFAR-10 Batch 3:  Loss:     0.3272 Validation Accuracy: 0.578125\n",
      "Epoch 57, CIFAR-10 Batch 4:  Loss:     0.3424 Validation Accuracy: 0.554688\n",
      "Epoch 57, CIFAR-10 Batch 5:  Loss:     0.3523 Validation Accuracy: 0.562500\n",
      "Epoch 58, CIFAR-10 Batch 1:  Loss:     0.4636 Validation Accuracy: 0.554688\n",
      "Epoch 58, CIFAR-10 Batch 2:  Loss:     0.3038 Validation Accuracy: 0.585938\n",
      "Epoch 58, CIFAR-10 Batch 3:  Loss:     0.2860 Validation Accuracy: 0.613281\n",
      "Epoch 58, CIFAR-10 Batch 4:  Loss:     0.3328 Validation Accuracy: 0.605469\n",
      "Epoch 58, CIFAR-10 Batch 5:  Loss:     0.3524 Validation Accuracy: 0.570312\n",
      "Epoch 59, CIFAR-10 Batch 1:  Loss:     0.4476 Validation Accuracy: 0.582031\n",
      "Epoch 59, CIFAR-10 Batch 2:  Loss:     0.3174 Validation Accuracy: 0.535156\n",
      "Epoch 59, CIFAR-10 Batch 3:  Loss:     0.3118 Validation Accuracy: 0.617188\n",
      "Epoch 59, CIFAR-10 Batch 4:  Loss:     0.3504 Validation Accuracy: 0.546875\n",
      "Epoch 59, CIFAR-10 Batch 5:  Loss:     0.3191 Validation Accuracy: 0.593750\n",
      "Epoch 60, CIFAR-10 Batch 1:  Loss:     0.5306 Validation Accuracy: 0.566406\n",
      "Epoch 60, CIFAR-10 Batch 2:  Loss:     0.2928 Validation Accuracy: 0.574219\n",
      "Epoch 60, CIFAR-10 Batch 3:  Loss:     0.3182 Validation Accuracy: 0.511719\n",
      "Epoch 60, CIFAR-10 Batch 4:  Loss:     0.3176 Validation Accuracy: 0.593750\n",
      "Epoch 60, CIFAR-10 Batch 5:  Loss:     0.3447 Validation Accuracy: 0.605469\n",
      "Epoch 61, CIFAR-10 Batch 1:  Loss:     0.4309 Validation Accuracy: 0.574219\n",
      "Epoch 61, CIFAR-10 Batch 2:  Loss:     0.3307 Validation Accuracy: 0.550781\n",
      "Epoch 61, CIFAR-10 Batch 3:  Loss:     0.2781 Validation Accuracy: 0.585938\n",
      "Epoch 61, CIFAR-10 Batch 4:  Loss:     0.3072 Validation Accuracy: 0.582031\n",
      "Epoch 61, CIFAR-10 Batch 5:  Loss:     0.3628 Validation Accuracy: 0.558594\n",
      "Epoch 62, CIFAR-10 Batch 1:  Loss:     0.6034 Validation Accuracy: 0.593750\n",
      "Epoch 62, CIFAR-10 Batch 2:  Loss:     0.2932 Validation Accuracy: 0.554688\n",
      "Epoch 62, CIFAR-10 Batch 3:  Loss:     0.2739 Validation Accuracy: 0.589844\n",
      "Epoch 62, CIFAR-10 Batch 4:  Loss:     0.3353 Validation Accuracy: 0.609375\n",
      "Epoch 62, CIFAR-10 Batch 5:  Loss:     0.3241 Validation Accuracy: 0.550781\n",
      "Epoch 63, CIFAR-10 Batch 1:  Loss:     0.4647 Validation Accuracy: 0.566406\n",
      "Epoch 63, CIFAR-10 Batch 2:  Loss:     0.2908 Validation Accuracy: 0.589844\n",
      "Epoch 63, CIFAR-10 Batch 3:  Loss:     0.2814 Validation Accuracy: 0.585938\n",
      "Epoch 63, CIFAR-10 Batch 4:  Loss:     0.3088 Validation Accuracy: 0.617188\n",
      "Epoch 63, CIFAR-10 Batch 5:  Loss:     0.3023 Validation Accuracy: 0.574219\n",
      "Epoch 64, CIFAR-10 Batch 1:  Loss:     0.4807 Validation Accuracy: 0.601562\n",
      "Epoch 64, CIFAR-10 Batch 2:  Loss:     0.3231 Validation Accuracy: 0.527344\n",
      "Epoch 64, CIFAR-10 Batch 3:  Loss:     0.3008 Validation Accuracy: 0.597656\n",
      "Epoch 64, CIFAR-10 Batch 4:  Loss:     0.3353 Validation Accuracy: 0.593750\n",
      "Epoch 64, CIFAR-10 Batch 5:  Loss:     0.3226 Validation Accuracy: 0.648438\n"
     ]
    }
   ],
   "source": [
    "\"\"\"\n",
    "DON'T MODIFY ANYTHING IN THIS CELL\n",
    "\"\"\"\n",
    "save_model_path = './image_classification'\n",
    "\n",
    "print('Training...')\n",
    "with tf.Session() as sess:\n",
    "    # Initializing the variables\n",
    "    sess.run(tf.global_variables_initializer())\n",
    "    \n",
    "    # Training cycle\n",
    "    for epoch in range(epochs):\n",
    "        # Loop over all batches\n",
    "        n_batches = 5\n",
    "        for batch_i in range(1, n_batches + 1):\n",
    "            for batch_features, batch_labels in helper.load_preprocess_training_batch(batch_i, batch_size):\n",
    "                train_neural_network(sess, optimizer, keep_probability, batch_features, batch_labels)\n",
    "            print('Epoch {:>2}, CIFAR-10 Batch {}:  '.format(epoch + 1, batch_i), end='')\n",
    "            print_stats(sess, batch_features, batch_labels, cost, accuracy)\n",
    "            \n",
    "    # Save Model\n",
    "    saver = tf.train.Saver()\n",
    "    save_path = saver.save(sess, save_model_path)"
   ]
  },
  {
   "cell_type": "markdown",
   "metadata": {
    "deletable": true,
    "editable": true
   },
   "source": [
    "# Checkpoint\n",
    "The model has been saved to disk.\n",
    "## Test Model\n",
    "Test your model against the test dataset.  This will be your final accuracy. You should have an accuracy greater than 50%. If you don't, keep tweaking the model architecture and parameters."
   ]
  },
  {
   "cell_type": "code",
   "execution_count": 67,
   "metadata": {
    "collapsed": false,
    "deletable": true,
    "editable": true
   },
   "outputs": [
    {
     "name": "stdout",
     "output_type": "stream",
     "text": [
      "Testing Accuracy: 0.6078125\n",
      "\n"
     ]
    },
    {
     "data": {
      "image/png": "[encoded data removed]",
      "text/plain": [
       "<matplotlib.figure.Figure at 0x7f9bdbfadda0>"
      ]
     },
     "metadata": {
      "image/png": {
       "height": 319,
       "width": 355
      }
     },
     "output_type": "display_data"
    }
   ],
   "source": [
    "\"\"\"\n",
    "DON'T MODIFY ANYTHING IN THIS CELL\n",
    "\"\"\"\n",
    "%matplotlib inline\n",
    "%config InlineBackend.figure_format = 'retina'\n",
    "\n",
    "import tensorflow as tf\n",
    "import pickle\n",
    "import helper\n",
    "import random\n",
    "\n",
    "# Set batch size if not already set\n",
    "try:\n",
    "    if batch_size:\n",
    "        pass\n",
    "except NameError:\n",
    "    batch_size = 64\n",
    "\n",
    "save_model_path = './image_classification'\n",
    "n_samples = 4\n",
    "top_n_predictions = 3\n",
    "\n",
    "def test_model():\n",
    "    \"\"\"\n",
    "    Test the saved model against the test dataset\n",
    "    \"\"\"\n",
    "\n",
    "    test_features, test_labels = pickle.load(open('preprocess_training.p', mode='rb'))\n",
    "    loaded_graph = tf.Graph()\n",
    "\n",
    "    with tf.Session(graph=loaded_graph) as sess:\n",
    "        # Load model\n",
    "        loader = tf.train.import_meta_graph(save_model_path + '.meta')\n",
    "        loader.restore(sess, save_model_path)\n",
    "\n",
    "        # Get Tensors from loaded model\n",
    "        loaded_x = loaded_graph.get_tensor_by_name('x:0')\n",
    "        loaded_y = loaded_graph.get_tensor_by_name('y:0')\n",
    "        loaded_keep_prob = loaded_graph.get_tensor_by_name('keep_prob:0')\n",
    "        loaded_logits = loaded_graph.get_tensor_by_name('logits:0')\n",
    "        loaded_acc = loaded_graph.get_tensor_by_name('accuracy:0')\n",
    "        \n",
    "        # Get accuracy in batches for memory limitations\n",
    "        test_batch_acc_total = 0\n",
    "        test_batch_count = 0\n",
    "        \n",
    "        for train_feature_batch, train_label_batch in helper.batch_features_labels(test_features, test_labels, batch_size):\n",
    "            test_batch_acc_total += sess.run(\n",
    "                loaded_acc,\n",
    "                feed_dict={loaded_x: train_feature_batch, loaded_y: train_label_batch, loaded_keep_prob: 1.0})\n",
    "            test_batch_count += 1\n",
    "\n",
    "        print('Testing Accuracy: {}\\n'.format(test_batch_acc_total/test_batch_count))\n",
    "\n",
    "        # Print Random Samples\n",
    "        random_test_features, random_test_labels = tuple(zip(*random.sample(list(zip(test_features, test_labels)), n_samples)))\n",
    "        random_test_predictions = sess.run(\n",
    "            tf.nn.top_k(tf.nn.softmax(loaded_logits), top_n_predictions),\n",
    "            feed_dict={loaded_x: random_test_features, loaded_y: random_test_labels, loaded_keep_prob: 1.0})\n",
    "        helper.display_image_predictions(random_test_features, random_test_labels, random_test_predictions)\n",
    "\n",
    "\n",
    "test_model()"
   ]
  },
  {
   "cell_type": "markdown",
   "metadata": {
    "deletable": true,
    "editable": true
   },
   "source": [
    "## Why 50-70% Accuracy?\n",
    "You might be wondering why you can't get an accuracy any higher. First things first, 50% isn't bad for a simple CNN.  Pure guessing would get you 10% accuracy. However, you might notice people are getting scores [well above 70%](http://rodrigob.github.io/are_we_there_yet/build/classification_datasets_results.html#43494641522d3130).  That's because we haven't taught you all there is to know about neural networks. We still need to cover a few more techniques.\n",
    "## Submitting This Project\n",
    "When submitting this project, make sure to run all the cells before saving the notebook.  Save the notebook file as \"dlnd_image_classification.ipynb\" and save it as a HTML file under \"File\" -> \"Download as\".  Include the \"helper.py\" and \"problem_unittests.py\" files in your submission."
   ]
  }
 ],
 "metadata": {
  "kernelspec": {
   "display_name": "Python 3",
   "language": "python",
   "name": "python3"
  },
  "language_info": {
   "codemirror_mode": {
    "name": "ipython",
    "version": 3
   },
   "file_extension": ".py",
   "mimetype": "text/x-python",
   "name": "python",
   "nbconvert_exporter": "python",
   "pygments_lexer": "ipython3",
   "version": "3.5.2"
  },
  "widgets": {
   "state": {},
   "version": "1.1.2"
  }
 },
 "nbformat": 4,
 "nbformat_minor": 0
}
